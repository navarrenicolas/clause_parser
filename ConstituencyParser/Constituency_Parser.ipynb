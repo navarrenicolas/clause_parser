{
 "cells": [
  {
   "cell_type": "code",
   "execution_count": 65,
   "id": "94f2acfd-a2e3-4ba9-b1b1-31ab51a2d32d",
   "metadata": {},
   "outputs": [],
   "source": [
    "import benepar, spacy"
   ]
  },
  {
   "cell_type": "code",
   "execution_count": 66,
   "id": "f680f71a-00df-45d0-804c-11f7a3dea025",
   "metadata": {
    "scrolled": true
   },
   "outputs": [],
   "source": [
    "#nlp.add_pipe('benepar', config={'model': 'benepar_en3'})\n",
    "nlp = spacy.load('en_core_web_md')\n",
    "if spacy.__version__.startswith('2'):\n",
    "    nlp.add_pipe(benepar.BeneparComponent(\"benepar_en3\"))\n",
    "else:\n",
    "    nlp.add_pipe(\"benepar\", config={\"model\": \"benepar_en3\"})"
   ]
  },
  {
   "cell_type": "code",
   "execution_count": 67,
   "id": "18c018e3-d585-495e-bab7-1583f31b6180",
   "metadata": {},
   "outputs": [],
   "source": [
    "decl_samples = open('../Datasets/ClauseEmbeddingExamples/finite-declarative-clauses.txt').read().replace('\\n', ' ')\n",
    "pol_samples = open('../Datasets/ClauseEmbeddingExamples/finite-polar-interrogative-clauses.txt').read().replace('\\n', ' ')\n",
    "const_samples = open('../Datasets/ClauseEmbeddingExamples/finite-consituent-interrogative-clauses.txt').read().replace('\\n', ' ')\n",
    "alt_samples = open('../Datasets/ClauseEmbeddingExamples/finite-alternative-interrogative-clauses.txt').read().replace('\\n', ' ')\n",
    "adv_samples = open('../Datasets/ClauseEmbeddingExamples/adversarial.txt').read().replace('\\n', ' ')\n",
    "all_examples = decl_samples + pol_samples + const_samples + alt_samples"
   ]
  },
  {
   "cell_type": "code",
   "execution_count": 68,
   "id": "d9eb23b6-e46e-4f23-bc39-410bb38a9912",
   "metadata": {},
   "outputs": [],
   "source": [
    "def replace_brackets(parsed_string):\n",
    "    # Replace round brackets with square brackets\n",
    "    replaced_string = parsed_string.replace('(', '[').replace(')', ']')\n",
    "    \n",
    "    # Wrap the string with \\begin{forest} and \\end{forest}\n",
    "    final_string = '\\\\begin{forest} ' + replaced_string + ' \\\\end{forest}'\n",
    "    \n",
    "    return final_string"
   ]
  },
  {
   "cell_type": "markdown",
   "id": "a746bac2-cbf7-462d-aa6b-3a3fbb451287",
   "metadata": {},
   "source": [
    "# Individual examples"
   ]
  },
  {
   "cell_type": "code",
   "execution_count": 12,
   "id": "784e3763-8af6-4aca-9f3b-c741b671fb64",
   "metadata": {},
   "outputs": [
    {
     "name": "stdout",
     "output_type": "stream",
     "text": [
      "\\begin{forest} [S [NP [DT This]] [VP [VBZ is] [NP [NP [DT the] [JJS best] [NN thing]] [SBAR [S [NP [PRP I]] [VP [VBP have] [ADVP [RB ever]] [VP [VBN seen] [PP [IN in] [NP [PRP$ my] [JJ whole] [JJ entire] [NN life]]]]]]]]]] \\end{forest}\n"
     ]
    }
   ],
   "source": [
    "test_doc = nlp(\"This is the best thing I have ever seen in my whole entire life\")\n",
    "print(replace_brackets(list(test_doc.sents)[0]._.parse_string))"
   ]
  },
  {
   "cell_type": "code",
   "execution_count": 6,
   "id": "71bc3db5-9b65-4130-b187-7d8e1e0f2d82",
   "metadata": {},
   "outputs": [
    {
     "name": "stdout",
     "output_type": "stream",
     "text": [
      "\\begin{forest} [S [NP [NP [DT The] [NNS developers]] [PP [IN in] [NP [NNP PG]]]] [VP [VBP seem] [S [VP [TO to] [VP [VP [VB be] [ADJP [RB very] [NN risk] [JJ adverse]]] [CC and] [VP [VBP lack] [NP [NP [DT the] [NN vision] [CC and] [NN capasity]] [SBAR [S [VP [TO to] [VP [VB grow] [NP [DT this] [NN city]] [PP [IN to] [NP [PRP$ its] [NN potential]]]]]]]]]]]]] [. .]] \\end{forest}\n"
     ]
    }
   ],
   "source": [
    "test_doc = nlp(\"The developers in PG seem to be very risk adverse and lack the vision and capasity to grow this city to its potential.\")\n",
    "print(replace_brackets(list(test_doc.sents)[0]._.parse_string))"
   ]
  },
  {
   "cell_type": "code",
   "execution_count": 7,
   "id": "401562a8-ba6b-4e4c-90ba-4776f0082a87",
   "metadata": {},
   "outputs": [
    {
     "name": "stdout",
     "output_type": "stream",
     "text": [
      "\\begin{forest} [S [NP [PRP I]] [VP [VBP have] [NP [ADJP [RB absolutely] [DT no]] [NN confidence] [SBAR [IN that] [S [NP [NNP Bill]] [VP [MD will] [VP [VB win] [NP [DT the] [NN race]]]]]]]]] \\end{forest}\n"
     ]
    }
   ],
   "source": [
    "test_doc = nlp(\"I have absolutely no confidence that Bill will win the race\")\n",
    "print(replace_brackets(list(test_doc.sents)[0]._.parse_string))"
   ]
  },
  {
   "cell_type": "code",
   "execution_count": 8,
   "id": "38f0bee1-1d3e-463a-8431-14d8bfc363ac",
   "metadata": {},
   "outputs": [
    {
     "name": "stdout",
     "output_type": "stream",
     "text": [
      "\\begin{forest} [S [NP [NNP John]] [VP [VBZ knows] [SBAR [IN that] [S [NP [NNP Bill]] [VP [VBZ knows] [SBAR [S [NP [NNP Mary]] [VP [VBD lost] [NP [DT the] [NN race]]]]]]]]]] \\end{forest}\n"
     ]
    }
   ],
   "source": [
    "test_doc = nlp(\"John knows that Bill knows Mary lost the race\")\n",
    "print(replace_brackets(list(test_doc.sents)[0]._.parse_string))"
   ]
  },
  {
   "cell_type": "code",
   "execution_count": 11,
   "id": "c28cdcfe-067c-4044-90e1-5aa16298b52e",
   "metadata": {},
   "outputs": [
    {
     "name": "stdout",
     "output_type": "stream",
     "text": [
      "\\begin{forest} [S [NP [NNP John]] [VP [VBZ knows] [SBAR [SBAR [IN that] [S [NP [NNP Mary]] [VP [VBD won] [NP [DT the] [NN race]]]]] [CC and] [SBAR [IN that] [S [NP [NNP Bill]] [VP [VBD lost] [NP [DT the] [NN race]]]]]]]] \\end{forest}\n"
     ]
    }
   ],
   "source": [
    "test_doc = nlp(\"John knows that Mary won the race and that Bill lost the race\")\n",
    "print(replace_brackets(list(test_doc.sents)[0]._.parse_string))"
   ]
  },
  {
   "cell_type": "code",
   "execution_count": 282,
   "id": "a5fc12a5-d44c-4934-92c8-70f93445efa0",
   "metadata": {},
   "outputs": [
    {
     "name": "stdout",
     "output_type": "stream",
     "text": [
      "\\begin{forest} [S [NP [NNP Norheim]] [VP [VBD was] [NP [NP [DT a] [NN teacher]] [PP [IN at] [NP [NP [DT the] [NNP Connaught] [NNP Junior] [NNP High] [NNP School]] [SBAR [WHNP [WDT which]] [S [VP [VBD was] [PP [IN on] [NP [DT the] [VBG neighbouring] [NN property]]] [SBAR [IN until] [S [NP [PRP it]] [VP [VBD burned] [PP [IN to] [NP [DT the] [NN ground]]]]]]]]]]]]]] \\end{forest}\n"
     ]
    }
   ],
   "source": [
    "test_doc = nlp(\"Norheim was a teacher at the Connaught Junior High School which was on the neighbouring property until it burned to the ground\")\n",
    "print(replace_brackets(list(test_doc.sents)[0]._.parse_string))"
   ]
  },
  {
   "cell_type": "code",
   "execution_count": 10,
   "id": "b53c46f3-8553-46bc-8e15-a4fb8fe64781",
   "metadata": {},
   "outputs": [
    {
     "name": "stdout",
     "output_type": "stream",
     "text": [
      "\\begin{forest} [S [NP [PRP He]] [VP [VBZ says] [SBAR [S [NP [PRP it]] [VP [VBD was] [RB n’t] [SBAR [IN until] [S [NP [NNP Mayor] [NNP Lyn] [NNP Hall]] [VP [VBD was] [VP [VBN elected]]]]] [SBAR [WHADVP [WDT that]] [S [NP [DT the] [NNS wheels]] [VP [VBD were] [VP [VBN set] [PP [IN in] [NP [NN motion]]]]]]]]]]] [. .]] \\end{forest}\n"
     ]
    }
   ],
   "source": [
    "test_doc = nlp(\"He says it wasn’t until Mayor Lyn Hall was elected that the wheels were set in motion.\")\n",
    "print(replace_brackets(list(test_doc.sents)[0]._.parse_string))"
   ]
  },
  {
   "cell_type": "code",
   "execution_count": 13,
   "id": "e47943b9-0eec-460d-8db1-070a6cbd2333",
   "metadata": {},
   "outputs": [
    {
     "name": "stdout",
     "output_type": "stream",
     "text": [
      "\\begin{forest} [S [NP [NNP Bill]] [VP [VBZ knows] [SBAR [IN that] [S [NP [NNP Bill]] [VP [VBZ is] [ADJP [JJ uncertain] [SBAR [IN whether] [S [NP [NNP Mary]] [VP [MD will] [VP [VB come] [PP [IN to] [NP [DT the] [NN party]]]]]]]]]]]] [. .]] \\end{forest}\n"
     ]
    }
   ],
   "source": [
    "test_doc = nlp(\"Bill knows that Bill is uncertain whether Mary will come to the party.\")\n",
    "print(replace_brackets(list(test_doc.sents)[0]._.parse_string))"
   ]
  },
  {
   "cell_type": "code",
   "execution_count": 115,
   "id": "650e3d97-c8df-4d86-aca0-cb817857e4cc",
   "metadata": {},
   "outputs": [
    {
     "name": "stdout",
     "output_type": "stream",
     "text": [
      "\\begin{forest} [S [SBAR [IN Whether] [S [NP [NNP John]] [VP [VBZ is] [ADVP [RB here]]]]] [VP [VBZ is] [ADJP [JJ irrelevant]]]] \\end{forest}\n"
     ]
    }
   ],
   "source": [
    "test_doc = nlp(\"Whether John is here is irrelevant\")\n",
    "print(replace_brackets(list(test_doc.sents)[0]._.parse_string))"
   ]
  },
  {
   "cell_type": "code",
   "execution_count": 116,
   "id": "0caf4ec1-71b6-432e-a577-48be56672186",
   "metadata": {},
   "outputs": [
    {
     "name": "stdout",
     "output_type": "stream",
     "text": [
      "\\begin{forest} [SBAR [SBAR [IN Whether] [S [NP [NNP John]] [VP [VBZ is] [ADVP [RB here]]]]] [VP [VBD was] [VP [VBN asked] [PP [IN by] [NP [NNP Bill]]]]]] \\end{forest}\n"
     ]
    }
   ],
   "source": [
    "test_doc = nlp(\"Whether John is here was asked by Bill\")\n",
    "print(replace_brackets(list(test_doc.sents)[0]._.parse_string))"
   ]
  },
  {
   "cell_type": "markdown",
   "id": "b5fc14e4-6a90-4dc2-9602-ca0051d59f53",
   "metadata": {},
   "source": [
    "# Clause Parser"
   ]
  },
  {
   "cell_type": "code",
   "execution_count": 69,
   "id": "7d5369cd-fdfa-4610-bd62-adb51924639e",
   "metadata": {},
   "outputs": [],
   "source": [
    "def check_SBAR(span,has_SBAR = False)->bool:\n",
    "    if has_SBAR:\n",
    "        return True\n",
    "    children = list(span._.children)\n",
    "    if len(children)==0:\n",
    "        return  False    \n",
    "    for child in children:\n",
    "        if \"SBAR\" in child._.labels:\n",
    "            has_SBAR = True\n",
    "        else:\n",
    "            has_SBAR = check_SBAR(child,has_SBAR)\n",
    "    return has_SBAR"
   ]
  },
  {
   "cell_type": "code",
   "execution_count": 70,
   "id": "8b56ce1d-64ff-43b7-ae6d-e2c8ec3895f4",
   "metadata": {},
   "outputs": [],
   "source": [
    "def VP_parent(span):\n",
    "    parent = span._.parent\n",
    "    if parent == None:\n",
    "        return (False,None)\n",
    "    parent_label = parent._.labels\n",
    "    if \"VP\" in parent_label:\n",
    "        return (True,list(parent._.children)[0])\n",
    "    elif \"NP\" in parent_label:\n",
    "        return (False,None)\n",
    "    else:\n",
    "        return VP_parent(parent)"
   ]
  },
  {
   "cell_type": "code",
   "execution_count": 71,
   "id": "23e68080-9e12-467a-8c4d-4ebf415732e5",
   "metadata": {},
   "outputs": [],
   "source": [
    "def check_embedding_predicate(seg,has_predicate = (False,None)):\n",
    "    if has_predicate[0]:\n",
    "        return has_predicate\n",
    "    children = list(seg._.children)\n",
    "    if len(children) == 0:\n",
    "        return (False,None)\n",
    "    for child in children:\n",
    "        c_label = child._.labels\n",
    "        parent_head = VP_parent(child)     \n",
    "        if parent_head[0]:\n",
    "            if \"SBAR\" in c_label:\n",
    "                has_predicate = parent_head \n",
    "        has_predicate = check_embedding_predicate(child,has_predicate)\n",
    "    return has_predicate    "
   ]
  },
  {
   "cell_type": "code",
   "execution_count": 18,
   "id": "9de735db-7c20-41d7-9e89-9983651df9a7",
   "metadata": {},
   "outputs": [],
   "source": [
    "def check_SBAR(span,has_SBAR = False)->bool:\n",
    "    if has_SBAR:\n",
    "        return True\n",
    "    children = list(span._.children)\n",
    "    if len(children)==0:\n",
    "        return  False    \n",
    "    for child in children:\n",
    "        if \"SBAR\" in child._.labels:\n",
    "            has_SBAR = True\n",
    "        else:\n",
    "            has_SBAR = check_SBAR(child,has_SBAR)\n",
    "    return has_SBAR\n",
    "\n",
    "    \n",
    "def check_embedding_predicate(seg,has_predicate = (False,None)):\n",
    "    if has_predicate[0]:\n",
    "        return has_predicate\n",
    "    children = list(seg._.children)\n",
    "    if len(children) == 0:\n",
    "        return (False,None)\n",
    "    for child in children:\n",
    "        c_label = child._.labels\n",
    "        parent_head = VP_parent(child)     \n",
    "        if parent_head[0]:\n",
    "            if \"SBAR\" in c_label:\n",
    "                has_predicate = parent_head \n",
    "        has_predicate = check_embedding_predicate(child,has_predicate)\n",
    "    return has_predicate    \n",
    "\n",
    "def get_embedded_clause(seg,has_predicate = (False,None),clause = None):\n",
    "    if has_predicate[0]:\n",
    "        return [has_predicate[0],has_predicate[1],clause]\n",
    "    children = list(seg._.children)\n",
    "    if len(children) == 0:\n",
    "        return [False,None,None]\n",
    "    for child in children:\n",
    "        if has_predicate[0]:\n",
    "            continue\n",
    "        c_label = child._.labels\n",
    "        parent_head = VP_parent(child)     \n",
    "        if parent_head[0]:\n",
    "            if \"SBAR\" in c_label:\n",
    "                has_predicate = parent_head\n",
    "                clause = child\n",
    "        has_predicate = get_embedded_clause(child,has_predicate,clause)\n",
    "    return has_predicate\n"
   ]
  },
  {
   "cell_type": "code",
   "execution_count": 19,
   "id": "940b2671-79ca-49e4-91d8-31ff1cb1e128",
   "metadata": {},
   "outputs": [],
   "source": [
    "def get_embedded_clause(seg,has_predicate = (False,None),clause = None):\n",
    "    if has_predicate[0]:\n",
    "        return [has_predicate[0],has_predicate[1],clause]\n",
    "    children = list(seg._.children)\n",
    "    if len(children) == 0:\n",
    "        return [False,None,None]\n",
    "    for child in children:\n",
    "        if has_predicate[0]:\n",
    "            continue\n",
    "        c_label = child._.labels\n",
    "        parent_head = VP_parent(child)     \n",
    "        if parent_head[0]:\n",
    "            if \"SBAR\" in c_label:\n",
    "                has_predicate = parent_head\n",
    "                clause = child\n",
    "        has_predicate = get_embedded_clause(child,has_predicate,clause)\n",
    "    return has_predicate"
   ]
  },
  {
   "cell_type": "code",
   "execution_count": 72,
   "id": "a79b8bf0-f7e6-456d-acae-966bde639b6c",
   "metadata": {},
   "outputs": [],
   "source": [
    "def get_predicate(span):\n",
    "    if 'SBAR' in span._.labels:\n",
    "        return []\n",
    "    children = list(span._.children)\n",
    "    if len(children) == 0:\n",
    "        return []\n",
    "    if 'SBAR' not in children[0]._.labels:\n",
    "        return [{'string' : token, \"lemma\" : token.lemma_, 'POS': token.pos_ } for token in children[0]] + get_predicate(children[1])\n",
    "    return []\n",
    "    \n",
    "def VP_parent(span):\n",
    "    parent = span._.parent\n",
    "    if parent == None:\n",
    "        return (False,None)\n",
    "    parent_label = parent._.labels\n",
    "    if \"VP\" in parent_label:\n",
    "        predicate = get_predicate(parent)\n",
    "        return (True,predicate)\n",
    "    \n",
    "    elif \"NP\" in parent_label:\n",
    "        return (False,None)\n",
    "    else:\n",
    "        return VP_parent(parent)    \n",
    "        \n",
    "def get_SBAR_spans(span):\n",
    "    # if 'SBAR' in span._.labels:\n",
    "    #     return [span]\n",
    "    children = list(span._.children)\n",
    "    spans = []\n",
    "    if len(children)==0:\n",
    "        return spans\n",
    "    for child in children:\n",
    "        if 'SBAR' in child._.labels:\n",
    "            spans += [child]\n",
    "        else:\n",
    "            spans+= get_SBAR_spans(child)\n",
    "    return spans\n",
    "\n",
    "def get_S_parent(span):\n",
    "    parent = span._.parent\n",
    "    if parent == None:\n",
    "        return span\n",
    "    parent_label = parent._.labels\n",
    "    if \"S\" in parent_label:\n",
    "        return parent\n",
    "    else:\n",
    "        return get_S_parent(parent)        \n",
    "\n",
    "def get_SBAR_clause(span):\n",
    "    if 'S' in span._.labels:\n",
    "        return [span]\n",
    "    children = list(span._.children)\n",
    "    clauses = []\n",
    "    if len(children)==0:\n",
    "        return clauses\n",
    "    for child in children:\n",
    "        if 'S' in child._.labels:\n",
    "            clauses += [child]\n",
    "        else:\n",
    "            clauses+= get_SBAR_clause(child)\n",
    "    return clauses\n",
    "\n",
    "def get_clause_type(span):\n",
    "        \"\"\"Returns the type of the embedded clause if there is one in the given sentence.\n",
    "            Identifies clauses as one of 4 clause types\n",
    "                - finite declarative\n",
    "                - finite polar interrogative\n",
    "                - finite constituent interrogative\n",
    "                - finite alternative interrogative\n",
    "            Otherwise the clause will be labeled with \"other\".\n",
    "\n",
    "        :seg: spacy.tokens.span.span\n",
    "            Parsed representation of of text string.\n",
    "        :has_predicate: (bool,spacy.tokens.span.span)\n",
    "        :clause: str\n",
    "            Embedding predicate if it has been previously found.\n",
    "            Carry the last finding in in case predicate has already been found.\n",
    "        :returns: str\n",
    "            Embedded clause type label\n",
    "        \"\"\"\n",
    "\n",
    "        \n",
    "        # Convert to string to apply heuristic checks\n",
    "        clause_str = str(span).lower()\n",
    "\n",
    "        first_word = str(list(span._.children)[0]).lower()\n",
    "\n",
    "        # Check for polar and alternative interrogatives\n",
    "        if 'whether' in first_word: \n",
    "            if 'or not' in clause_str:\n",
    "                return 'polar'\n",
    "            if ' or ' in clause_str:\n",
    "                return 'alternative'\n",
    "            else:\n",
    "                return 'polar'\n",
    "\n",
    "        # Check for constituent\n",
    "        if any([word in first_word for word in ['who', 'what', 'when', 'where', 'why', 'how','which']]):\n",
    "               return 'constituent'\n",
    "\n",
    "        return 'declarative'"
   ]
  },
  {
   "cell_type": "code",
   "execution_count": 73,
   "id": "fd27634c-41f9-4054-9995-a6bfdef0112b",
   "metadata": {},
   "outputs": [],
   "source": [
    "def parse_SBAR_clause(span):\n",
    "    parent = VP_parent(span)\n",
    "    if not parent[0]:\n",
    "        return []\n",
    "    \n",
    "    SBAR_spans = get_SBAR_spans(span)\n",
    "    \n",
    "    return {'predicate': parent[1],\n",
    "            'type': get_clause_type(span),\n",
    "            'clause' : get_SBAR_clause(span) ,\n",
    "            'embedded clauses' : [parse_SBAR_clause(sbar) for sbar in SBAR_spans]\n",
    "           }\n",
    "def parse_clauses(span):\n",
    "    SBAR_spans = get_SBAR_spans(span)\n",
    "    return {\"sentence\": span, \n",
    "            \"embedded clauses\": [parse_SBAR_clause(sbar) for sbar in SBAR_spans]\n",
    "           }"
   ]
  },
  {
   "cell_type": "code",
   "execution_count": 98,
   "id": "b49a8b82-37ca-485f-949c-742f67b2ff3c",
   "metadata": {},
   "outputs": [],
   "source": [
    "separate_embedded_doc = nlp(\"John thinks that he won the race but he wishes he lost.\")\n",
    "coordinated_doc = nlp(\"John knows that Mary won the race and that Bill lost the race\")\n",
    "nested_embedded_doc = nlp(\"John knows that Bill is uncertain whether Mary will come to the party.\")\n",
    "\n",
    "separate_embed_span = list(separate_embedded_doc.sents)[0]\n",
    "coordinated_span = list(coordinated_doc.sents)[0]\n",
    "nested_embedded_span = list(nested_embedded_doc.sents)[0]"
   ]
  },
  {
   "cell_type": "code",
   "execution_count": 132,
   "id": "8546101e-b815-4100-8c85-27405654331b",
   "metadata": {},
   "outputs": [
    {
     "name": "stderr",
     "output_type": "stream",
     "text": [
      "/opt/homebrew/Caskroom/miniconda/base/envs/benepar_env/lib/python3.12/site-packages/torch/distributions/distribution.py:53: UserWarning: <class 'torch_struct.distributions.TreeCRF'> does not define `arg_constraints`. Please set `arg_constraints = {}` or initialize the distribution with `validate_args=False` to turn off validation.\n",
      "  warnings.warn(\n"
     ]
    },
    {
     "data": {
      "text/plain": [
       "{'sentence': John knows that Mary won the race and that Bill lost the race,\n",
       " 'embedded clauses': [{'predicate': [{'string': knows,\n",
       "     'lemma': 'know',\n",
       "     'POS': 'VERB'}],\n",
       "   'type': 'declarative',\n",
       "   'clause': [Mary won the race, Bill lost the race],\n",
       "   'embedded clauses': [{'predicate': [{'string': knows,\n",
       "       'lemma': 'know',\n",
       "       'POS': 'VERB'}],\n",
       "     'type': 'declarative',\n",
       "     'clause': [Mary won the race],\n",
       "     'embedded clauses': []},\n",
       "    {'predicate': [{'string': knows, 'lemma': 'know', 'POS': 'VERB'}],\n",
       "     'type': 'declarative',\n",
       "     'clause': [Bill lost the race],\n",
       "     'embedded clauses': []}]}]}"
      ]
     },
     "execution_count": 132,
     "metadata": {},
     "output_type": "execute_result"
    }
   ],
   "source": [
    "test_doc = nlp(\"They asked Bill whether he asked the firms whether they innovate\")\n",
    "test_span = list(test_doc.sents)[0]\n",
    "parse_clauses(coordinated_span)\n",
    "# print(replace_brackets(list(test_doc.sents)[0]._.parse_string))"
   ]
  },
  {
   "cell_type": "code",
   "execution_count": 109,
   "id": "e92a2d02-1b0d-4ec9-8a7d-e065e9af6b40",
   "metadata": {},
   "outputs": [
    {
     "data": {
      "text/plain": [
       "{'sentence': I wonder about whether I want to leave,\n",
       " 'embedded clauses': [{'predicate': [{'string': wonder,\n",
       "     'lemma': 'wonder',\n",
       "     'POS': 'VERB'},\n",
       "    {'string': about, 'lemma': 'about', 'POS': 'ADP'}],\n",
       "   'type': 'polar',\n",
       "   'clause': [I want to leave],\n",
       "   'embedded clauses': []}]}"
      ]
     },
     "execution_count": 109,
     "metadata": {},
     "output_type": "execute_result"
    }
   ],
   "source": [
    "parse_clauses(test_span)"
   ]
  },
  {
   "cell_type": "code",
   "execution_count": 83,
   "id": "2d45b53e-7111-4764-9193-a45c7b1799ef",
   "metadata": {},
   "outputs": [
    {
     "data": {
      "text/plain": [
       "{'sentence': John thinks that he won the race but he wishes he lost.,\n",
       " 'embedded clauses': [{'predicate': [{'string': thinks,\n",
       "     'lemma': 'think',\n",
       "     'POS': 'VERB'}],\n",
       "   'type': 'declarative',\n",
       "   'clause': [he won the race],\n",
       "   'embedded clauses': []},\n",
       "  {'predicate': [{'string': wishes, 'lemma': 'wish', 'POS': 'VERB'}],\n",
       "   'type': 'declarative',\n",
       "   'clause': [he lost],\n",
       "   'embedded clauses': []}]}"
      ]
     },
     "execution_count": 83,
     "metadata": {},
     "output_type": "execute_result"
    }
   ],
   "source": [
    "parse_clauses(separate_embed_span)"
   ]
  },
  {
   "cell_type": "code",
   "execution_count": 61,
   "id": "734b9127-c15d-4cee-a405-215a54d2d139",
   "metadata": {},
   "outputs": [
    {
     "data": {
      "text/plain": [
       "{'sentence': John knows that Mary won the race and that Bill lost the race,\n",
       " 'embedded clauses': [{'predicate': [{'string': knows,\n",
       "     'lemma': 'know',\n",
       "     'POS': 'VERB'}],\n",
       "   'type': 'declarative',\n",
       "   'clause': [Mary won the race, Bill lost the race],\n",
       "   'embedded clauses': [{'predicate': [{'string': knows,\n",
       "       'lemma': 'know',\n",
       "       'POS': 'VERB'}],\n",
       "     'type': 'declarative',\n",
       "     'clause': [Mary won the race],\n",
       "     'embedded clauses': []},\n",
       "    {'predicate': [{'string': knows, 'lemma': 'know', 'POS': 'VERB'}],\n",
       "     'type': 'declarative',\n",
       "     'clause': [Bill lost the race],\n",
       "     'embedded clauses': []}]}]}"
      ]
     },
     "execution_count": 61,
     "metadata": {},
     "output_type": "execute_result"
    }
   ],
   "source": [
    "parse_clauses(coordinated_span)"
   ]
  },
  {
   "cell_type": "code",
   "execution_count": 62,
   "id": "7618989e-fa40-4326-b06f-e48577ba88b4",
   "metadata": {},
   "outputs": [
    {
     "data": {
      "text/plain": [
       "{'sentence': John knows that Bill is uncertain whether Mary will come to the party.,\n",
       " 'embedded clauses': [{'predicate': [{'string': knows,\n",
       "     'lemma': 'know',\n",
       "     'POS': 'VERB'}],\n",
       "   'type': 'declarative',\n",
       "   'clause': [Bill is uncertain whether Mary will come to the party],\n",
       "   'embedded clauses': [{'predicate': [{'string': is,\n",
       "       'lemma': 'be',\n",
       "       'POS': 'AUX'},\n",
       "      {'string': uncertain, 'lemma': 'uncertain', 'POS': 'ADJ'}],\n",
       "     'type': 'polar',\n",
       "     'clause': [Mary will come to the party],\n",
       "     'embedded clauses': []}]}]}"
      ]
     },
     "execution_count": 62,
     "metadata": {},
     "output_type": "execute_result"
    }
   ],
   "source": [
    "parse_clauses(multiple_embedded_span)"
   ]
  },
  {
   "cell_type": "code",
   "execution_count": 63,
   "id": "de94a7ea-7f4d-467e-87a1-3a0a135344b0",
   "metadata": {},
   "outputs": [
    {
     "data": {
      "text/plain": [
       "{'sentence': John is uncertain about whether Tom is lying.,\n",
       " 'embedded clauses': [{'predicate': [{'string': is,\n",
       "     'lemma': 'be',\n",
       "     'POS': 'AUX'},\n",
       "    {'string': uncertain, 'lemma': 'uncertain', 'POS': 'ADJ'},\n",
       "    {'string': about, 'lemma': 'about', 'POS': 'ADP'}],\n",
       "   'type': 'polar',\n",
       "   'clause': [Tom is lying],\n",
       "   'embedded clauses': []}]}"
      ]
     },
     "execution_count": 63,
     "metadata": {},
     "output_type": "execute_result"
    }
   ],
   "source": [
    "parse_clauses(test_span)"
   ]
  },
  {
   "cell_type": "code",
   "execution_count": 64,
   "id": "7318eaf4-89e5-4fd1-85db-23546c62b5b4",
   "metadata": {},
   "outputs": [
    {
     "name": "stderr",
     "output_type": "stream",
     "text": [
      "/opt/homebrew/Caskroom/miniconda/base/envs/benepar_env/lib/python3.12/site-packages/torch/distributions/distribution.py:53: UserWarning: <class 'torch_struct.distributions.TreeCRF'> does not define `arg_constraints`. Please set `arg_constraints = {}` or initialize the distribution with `validate_args=False` to turn off validation.\n",
      "  warnings.warn(\n"
     ]
    },
    {
     "data": {
      "text/plain": [
       "{'sentence': In his book “The Power of Regret” the writer Daniel Pink argues that regret is an unavoidable fact of life and that it should not be thought of as something negative and shameful, but rather embraced as something helpful and instructive.,\n",
       " 'embedded clauses': [{'predicate': [{'string': argues,\n",
       "     'lemma': 'argue',\n",
       "     'POS': 'VERB'}],\n",
       "   'type': 'declarative',\n",
       "   'clause': [regret is an unavoidable fact of life,\n",
       "    it should not be thought of as something negative and shameful, but rather embraced as something helpful and instructive],\n",
       "   'embedded clauses': [{'predicate': [{'string': argues,\n",
       "       'lemma': 'argue',\n",
       "       'POS': 'VERB'}],\n",
       "     'type': 'declarative',\n",
       "     'clause': [regret is an unavoidable fact of life],\n",
       "     'embedded clauses': []},\n",
       "    {'predicate': [{'string': argues, 'lemma': 'argue', 'POS': 'VERB'}],\n",
       "     'type': 'declarative',\n",
       "     'clause': [it should not be thought of as something negative and shameful, but rather embraced as something helpful and instructive],\n",
       "     'embedded clauses': []}]}]}"
      ]
     },
     "execution_count": 64,
     "metadata": {},
     "output_type": "execute_result"
    }
   ],
   "source": [
    "parse_clauses(list(nlp('In his book “The Power of Regret” the writer Daniel Pink argues that regret is an unavoidable fact of life and that it should not be thought of as something negative and shameful, but rather embraced as something helpful and instructive.').sents)[0])"
   ]
  },
  {
   "cell_type": "code",
   "execution_count": 312,
   "id": "847e1f47-6fe5-4ab0-87ff-af1dc51e946b",
   "metadata": {},
   "outputs": [],
   "source": [
    "def peek_structure(span):\n",
    "    print(span)\n",
    "    SBAR_spans = get_SBAR_spans(span)\n",
    "    print(SBAR_spans)\n",
    "    print([span._.parent._.labels for span in SBAR_spans])\n",
    "    print([[child._.labels for child in list(span._.children)] for span in SBAR_spans])\n",
    "    print([get_S_clauses(span) for span in SBAR_spans])"
   ]
  },
  {
   "cell_type": "code",
   "execution_count": 313,
   "id": "aa47102c-e8c4-4c20-b808-194e1abdfab8",
   "metadata": {},
   "outputs": [
    {
     "name": "stdout",
     "output_type": "stream",
     "text": [
      "John thinks that he won the race but he wishes he lost.\n",
      "[that he won the race, he lost]\n",
      "[('VP',), ('VP',)]\n",
      "[[(), ('S',)], [('NP',), ('VP',)]]\n",
      "[[he won the race], [he lost]]\n"
     ]
    },
    {
     "data": {
      "text/plain": [
       "[John thinks that he won the race, he wishes he lost]"
      ]
     },
     "execution_count": 313,
     "metadata": {},
     "output_type": "execute_result"
    }
   ],
   "source": [
    "peek_structure(separate_embed_span)\n",
    "[get_S_parent(sbar) for sbar in get_SBAR_spans(separate_embed_span)]"
   ]
  },
  {
   "cell_type": "code",
   "execution_count": 314,
   "id": "cd181106-7bf6-46a0-a3b0-19c766dfce0c",
   "metadata": {},
   "outputs": [
    {
     "name": "stdout",
     "output_type": "stream",
     "text": [
      "John knows that Mary won the race and that Bill lost the race\n",
      "[that Mary won the race and that Bill lost the race]\n",
      "[('VP',)]\n",
      "[[('SBAR',), (), ('SBAR',)]]\n",
      "[[Mary won the race, Bill lost the race]]\n"
     ]
    },
    {
     "data": {
      "text/plain": [
       "[[Mary won the race, Bill lost the race]]"
      ]
     },
     "execution_count": 314,
     "metadata": {},
     "output_type": "execute_result"
    }
   ],
   "source": [
    "peek_structure(coordinated_span)\n",
    "[get_S_clauses(span) for span in get_SBAR_spans(coordinated_span)]"
   ]
  },
  {
   "cell_type": "code",
   "execution_count": 253,
   "id": "f8ecd1d1-8e14-4c03-8c19-2ace18b0ab61",
   "metadata": {},
   "outputs": [
    {
     "name": "stdout",
     "output_type": "stream",
     "text": [
      "This sentence has no embedded clauses.\n",
      "[]\n",
      "[]\n",
      "[]\n",
      "[]\n"
     ]
    }
   ],
   "source": [
    "peek_structure(test_span)"
   ]
  },
  {
   "cell_type": "markdown",
   "id": "24ceceea-7285-4ccb-96cb-c93fdafabd02",
   "metadata": {},
   "source": [
    "# Test Examples\n",
    "Test on example datasets"
   ]
  },
  {
   "cell_type": "code",
   "execution_count": 13,
   "id": "847fc68f-d81a-4874-9f8a-5b9cf96f5d0f",
   "metadata": {},
   "outputs": [],
   "source": [
    "all_doc = nlp(all_examples)"
   ]
  },
  {
   "cell_type": "code",
   "execution_count": 15,
   "id": "21a58cf1-f62e-4580-8793-c428dd3ff61e",
   "metadata": {},
   "outputs": [
    {
     "data": {
      "text/plain": [
       "[[True, believes, that the movie was unpleasant],\n",
       " [True, believes, the movie was unpleasant],\n",
       " [True, saw, that Mary didn’t like the movie],\n",
       " [True, hoped, you’d like the movie],\n",
       " [True, was, that the movie was good],\n",
       " [True, was, the movie was good],\n",
       " [True, like, that Mary did not like the movie],\n",
       " [True, said, that the movie was unrealistic],\n",
       " [True, thinks, that Mary likes movies],\n",
       " [True, wondered, that Mary did not like the movie],\n",
       " [True, wonders, whether Mary made it to class],\n",
       " [True, wonders, if Mary liked the movie or not],\n",
       " [True, thought, whether Mary would like the movie or not],\n",
       " [True, thought, whether or not you’ll go],\n",
       " [True, asked, if Mary came to the theatre and then left],\n",
       " [True, asked, if she liked the movie],\n",
       " [True, was, whether or not Mary liked the movie],\n",
       " [True, is, if it will rain],\n",
       " [True, thought, whether he liked the movie],\n",
       " [True,\n",
       "  know,\n",
       "  if the assignment is due tomorrow?John likes which movie Mary picked],\n",
       " [True, saw, which room the professor reserved],\n",
       " [True, asked, which one Mary wanted],\n",
       " [True, know, which part of the sentence is most relevant for the derivation],\n",
       " [True, is, which student won the race],\n",
       " [True, decide, which student won the race],\n",
       " [True, is, which is the highest score],\n",
       " [True, wonder, which of them is most likely to win the race],\n",
       " [True, knows, which of his friends is most likely to win the race],\n",
       " [True, said, which I prefer],\n",
       " [True, wondered, if Mary had chosen the comedy movie or the action movie],\n",
       " [True, check, whether it was assigned yesterday or the day before],\n",
       " [True, determine, if it’s an apple, oak, or cherry tree],\n",
       " [True, wondered, whether Mary was taller or shorter than Anne],\n",
       " [True, ask, whether you preferred the first, second, or third option],\n",
       " [True, asked, whether he should stay or he should go],\n",
       " [True, Tell, whether you’ll go for the apple, the pear or the orange],\n",
       " [True, wondering, if Mary is working or taking a break],\n",
       " [True,\n",
       "  considering,\n",
       "  if it’s better to keep it to himself or to tell Mary about it],\n",
       " [True, ’m, if Mary read War and Peace or Anna Karenina]]"
      ]
     },
     "execution_count": 15,
     "metadata": {},
     "output_type": "execute_result"
    }
   ],
   "source": [
    "embedded_clauses = [get_embedded_clause(sent) for sent in all_doc.sents]\n",
    "[get_embedded_clause(sent) for sent in all_doc.sents]\n",
    "# list(clause[2]._.parse_string for clause in embedded_clauses)"
   ]
  },
  {
   "cell_type": "code",
   "execution_count": 16,
   "id": "9fa7c7d5-a865-48c0-9569-ea6cec27a7a5",
   "metadata": {},
   "outputs": [
    {
     "name": "stderr",
     "output_type": "stream",
     "text": [
      "/opt/homebrew/lib/python3.11/site-packages/torch/distributions/distribution.py:53: UserWarning: <class 'torch_struct.distributions.TreeCRF'> does not define `arg_constraints`. Please set `arg_constraints = {}` or initialize the distribution with `validate_args=False` to turn off validation.\n",
      "  warnings.warn(\n"
     ]
    }
   ],
   "source": [
    "adv_doc = nlp(adv_samples)"
   ]
  },
  {
   "cell_type": "code",
   "execution_count": 17,
   "id": "07eb1f19-aa45-4ef7-be2c-54b01366e622",
   "metadata": {},
   "outputs": [
    {
     "data": {
      "text/plain": [
       "[[True, be, if it’s true],\n",
       " [True, is, whichever student won the race],\n",
       " [True, is certain, which is nice],\n",
       " [True, spilt, what Mary was cooking],\n",
       " [True, met, who was driving the car],\n",
       " [True, leave, whether or not you want me to]]"
      ]
     },
     "execution_count": 17,
     "metadata": {},
     "output_type": "execute_result"
    }
   ],
   "source": [
    "[get_embedded_clause(sent) for sent in adv_doc.sents]"
   ]
  },
  {
   "cell_type": "code",
   "execution_count": 238,
   "id": "105d206c-2a8e-49fb-8c7d-a298af5bf961",
   "metadata": {},
   "outputs": [
    {
     "data": {
      "text/plain": [
       "[I’ll be happy if it’s true.,\n",
       " John is happy whichever student won the race.,\n",
       " John is certain, which is nice.,\n",
       " John spilt what Mary was cooking.,\n",
       " I met who was driving the car.,\n",
       " I will leave whether or not you want me to.]"
      ]
     },
     "execution_count": 238,
     "metadata": {},
     "output_type": "execute_result"
    }
   ],
   "source": [
    "list(adv_doc.sents)"
   ]
  },
  {
   "cell_type": "code",
   "execution_count": null,
   "id": "3b350a8f-f2f5-4b92-951f-352de55ba057",
   "metadata": {},
   "outputs": [],
   "source": []
  }
 ],
 "metadata": {
  "kernelspec": {
   "display_name": "benepar_env",
   "language": "python",
   "name": "benepar_env"
  },
  "language_info": {
   "codemirror_mode": {
    "name": "ipython",
    "version": 3
   },
   "file_extension": ".py",
   "mimetype": "text/x-python",
   "name": "python",
   "nbconvert_exporter": "python",
   "pygments_lexer": "ipython3",
   "version": "3.12.4"
  }
 },
 "nbformat": 4,
 "nbformat_minor": 5
}
