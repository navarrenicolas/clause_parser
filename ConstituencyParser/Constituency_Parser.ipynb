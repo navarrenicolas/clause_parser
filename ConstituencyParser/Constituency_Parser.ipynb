{
 "cells": [
  {
   "cell_type": "code",
   "execution_count": 29,
   "id": "94f2acfd-a2e3-4ba9-b1b1-31ab51a2d32d",
   "metadata": {},
   "outputs": [],
   "source": [
    "import benepar, spacy"
   ]
  },
  {
   "cell_type": "code",
   "execution_count": 30,
   "id": "f680f71a-00df-45d0-804c-11f7a3dea025",
   "metadata": {
    "scrolled": true
   },
   "outputs": [],
   "source": [
    "#nlp.add_pipe('benepar', config={'model': 'benepar_en3'})\n",
    "nlp = spacy.load('en_core_web_md')\n",
    "if spacy.__version__.startswith('2'):\n",
    "    nlp.add_pipe(benepar.BeneparComponent(\"benepar_en3\"))\n",
    "else:\n",
    "    nlp.add_pipe(\"benepar\", config={\"model\": \"benepar_en3\"})"
   ]
  },
  {
   "cell_type": "code",
   "execution_count": 194,
   "id": "18c018e3-d585-495e-bab7-1583f31b6180",
   "metadata": {},
   "outputs": [],
   "source": [
    "decl_samples = open('../Datasets/ClauseEmbeddingExamples/finite-declarative-clauses.txt').read().replace('\\n', ' ')\n",
    "pol_samples = open('../Datasets/ClauseEmbeddingExamples/finite-polar-interrogative-clauses.txt').read().replace('\\n', ' ')\n",
    "const_samples = open('../Datasets/ClauseEmbeddingExamples/finite-consituent-interrogative-clauses.txt').read().replace('\\n', ' ')\n",
    "alt_samples = open('../Datasets/ClauseEmbeddingExamples/finite-alternative-interrogative-clauses.txt').read().replace('\\n', ' ')\n",
    "adv_samples = open('../Datasets/ClauseEmbeddingExamples/adversarial.txt').read().replace('\\n', ' ')\n",
    "all_examples = decl_samples + pol_samples + const_samples + alt_samples"
   ]
  },
  {
   "cell_type": "code",
   "execution_count": 35,
   "id": "5768bd6b-2e3c-490a-8b70-72dca2f6c6f3",
   "metadata": {},
   "outputs": [],
   "source": [
    "filepath = '../Datasets/ClauseEmbeddingExamples/'"
   ]
  },
  {
   "cell_type": "code",
   "execution_count": 37,
   "id": "0694171a-de8c-4779-9f85-80a9d87553df",
   "metadata": {},
   "outputs": [],
   "source": [
    "# Can change this file to any other kkind of clause embedding\n",
    "# filename = 'finite-alternative-interrogative-clauses.txt'\n",
    "# filename = 'finite-declarative-clauses.txt'\n",
    "# filename = 'finite-polar-interrogative-clauses.txt'\n",
    "# filename = 'finite-consituent-interrogative-clauses.txt'\n",
    "filename = 'adversarial.txt'"
   ]
  },
  {
   "cell_type": "code",
   "execution_count": 39,
   "id": "28a5f058-45a2-4aa3-b459-ad48d1a2221c",
   "metadata": {},
   "outputs": [],
   "source": [
    "with open(filepath+filename) as file:\n",
    "    sents = file.read().replace('\\n', ' ') # Concatenate all the sentences with a space instead of a new line character.\n",
    "    doc = nlp(sents)"
   ]
  },
  {
   "cell_type": "code",
   "execution_count": 40,
   "id": "0f590768-50e7-4056-a33a-8ba16d91a18d",
   "metadata": {},
   "outputs": [
    {
     "data": {
      "text/plain": [
       "['(S (NP (PRP I)) (VP (MD ’ll) (VP (VB be) (ADJP (JJ happy)) (SBAR (IN if) (S (NP (PRP it)) (VP (VBZ ’s) (ADJP (JJ true))))))) (. .))',\n",
       " '(S (NP (NNP John)) (VP (VBZ is) (ADJP (JJ happy) (SBAR (WHNP (WDT whichever) (NN student)) (S (VP (VBD won) (NP (DT the) (NN race))))))) (. .))',\n",
       " '(S (NP (NNP John)) (VP (VP (VBZ is) (ADJP (JJ certain))) (, ,) (SBAR (WHNP (WDT which)) (S (VP (VBZ is) (ADJP (JJ nice)))))) (. .))',\n",
       " '(S (NP (NNP John)) (VP (VBD spilt) (SBAR (WHNP (WP what)) (S (NP (NNP Mary)) (VP (VBD was) (VP (VBG cooking)))))) (. .))',\n",
       " '(S (NP (PRP I)) (VP (VBD met) (SBAR (WHNP (WP who)) (S (VP (VBD was) (VP (VBG driving) (NP (DT the) (NN car))))))) (. .))',\n",
       " '(S (NP (PRP I)) (VP (MD will) (VP (VB leave) (SBAR (IN whether) (CC or) (RB not) (S (NP (PRP you)) (VP (VBP want) (S (NP (PRP me)) (VP (TO to)))))))) (. .))']"
      ]
     },
     "execution_count": 40,
     "metadata": {},
     "output_type": "execute_result"
    }
   ],
   "source": [
    "parse_strings = [sent._.parse_string for sent in list(doc.sents)]\n",
    "parse_strings"
   ]
  },
  {
   "cell_type": "code",
   "execution_count": 41,
   "id": "d9eb23b6-e46e-4f23-bc39-410bb38a9912",
   "metadata": {},
   "outputs": [],
   "source": [
    "def replace_brackets(parsed_string):\n",
    "    # Replace round brackets with square brackets\n",
    "    replaced_string = parsed_string.replace('(', '[').replace(')', ']')\n",
    "    \n",
    "    # Wrap the string with \\begin{forest} and \\end{forest}\n",
    "    final_string = '\\\\begin{forest} ' + replaced_string + ' \\\\end{forest}'\n",
    "    \n",
    "    return final_string"
   ]
  },
  {
   "cell_type": "code",
   "execution_count": 42,
   "id": "b7c2a155-f122-4392-8e51-2d4055745d2c",
   "metadata": {},
   "outputs": [
    {
     "name": "stdout",
     "output_type": "stream",
     "text": [
      "\\begin{forest} [S [NP [PRP I]] [VP [MD ’ll] [VP [VB be] [ADJP [JJ happy]] [SBAR [IN if] [S [NP [PRP it]] [VP [VBZ ’s] [ADJP [JJ true]]]]]]] [. .]] \\end{forest}\n",
      "\\begin{forest} [S [NP [NNP John]] [VP [VBZ is] [ADJP [JJ happy] [SBAR [WHNP [WDT whichever] [NN student]] [S [VP [VBD won] [NP [DT the] [NN race]]]]]]] [. .]] \\end{forest}\n",
      "\\begin{forest} [S [NP [NNP John]] [VP [VP [VBZ is] [ADJP [JJ certain]]] [, ,] [SBAR [WHNP [WDT which]] [S [VP [VBZ is] [ADJP [JJ nice]]]]]] [. .]] \\end{forest}\n",
      "\\begin{forest} [S [NP [NNP John]] [VP [VBD spilt] [SBAR [WHNP [WP what]] [S [NP [NNP Mary]] [VP [VBD was] [VP [VBG cooking]]]]]] [. .]] \\end{forest}\n",
      "\\begin{forest} [S [NP [PRP I]] [VP [VBD met] [SBAR [WHNP [WP who]] [S [VP [VBD was] [VP [VBG driving] [NP [DT the] [NN car]]]]]]] [. .]] \\end{forest}\n",
      "\\begin{forest} [S [NP [PRP I]] [VP [MD will] [VP [VB leave] [SBAR [IN whether] [CC or] [RB not] [S [NP [PRP you]] [VP [VBP want] [S [NP [PRP me]] [VP [TO to]]]]]]]] [. .]] \\end{forest}\n"
     ]
    }
   ],
   "source": [
    "# Test the function with the given example\n",
    "latex_parse_trees = [replace_brackets(sent) for sent in parse_strings]\n",
    "print(\"\\n\".join(latex_parse_trees))"
   ]
  },
  {
   "cell_type": "markdown",
   "id": "a746bac2-cbf7-462d-aa6b-3a3fbb451287",
   "metadata": {},
   "source": [
    "# Individual examples"
   ]
  },
  {
   "cell_type": "code",
   "execution_count": 43,
   "id": "71bc3db5-9b65-4130-b187-7d8e1e0f2d82",
   "metadata": {},
   "outputs": [
    {
     "name": "stdout",
     "output_type": "stream",
     "text": [
      "\\begin{forest} [S [NP [NP [DT The] [NNS developers]] [PP [IN in] [NP [NNP PG]]]] [VP [VBP seem] [S [VP [TO to] [VP [VP [VB be] [ADJP [RB very] [NN risk] [JJ adverse]]] [CC and] [VP [VBP lack] [NP [NP [DT the] [NN vision] [CC and] [NN capasity]] [SBAR [S [VP [TO to] [VP [VB grow] [NP [DT this] [NN city]] [PP [IN to] [NP [PRP$ its] [NN potential]]]]]]]]]]]]] [. .]] \\end{forest}\n"
     ]
    }
   ],
   "source": [
    "test_doc = nlp(\"The developers in PG seem to be very risk adverse and lack the vision and capasity to grow this city to its potential.\")\n",
    "print(replace_brackets(list(test_doc.sents)[0]._.parse_string))"
   ]
  },
  {
   "cell_type": "code",
   "execution_count": 44,
   "id": "401562a8-ba6b-4e4c-90ba-4776f0082a87",
   "metadata": {},
   "outputs": [
    {
     "name": "stdout",
     "output_type": "stream",
     "text": [
      "\\begin{forest} [S [NP [PRP I]] [VP [VBP have] [NP [ADJP [RB absolutely] [DT no]] [NN confidence] [SBAR [IN that] [S [NP [NNP Bill]] [VP [MD will] [VP [VB win] [NP [DT the] [NN race]]]]]]]]] \\end{forest}\n"
     ]
    }
   ],
   "source": [
    "test_doc = nlp(\"I have absolutely no confidence that Bill will win the race\")\n",
    "print(replace_brackets(list(test_doc.sents)[0]._.parse_string))"
   ]
  },
  {
   "cell_type": "code",
   "execution_count": 171,
   "id": "38f0bee1-1d3e-463a-8431-14d8bfc363ac",
   "metadata": {},
   "outputs": [
    {
     "name": "stdout",
     "output_type": "stream",
     "text": [
      "\\begin{forest} [S [NP [NNP John]] [VP [VBZ knows] [SBAR [IN that] [S [NP [NNP Bill]] [VP [VBZ knows] [SBAR [S [NP [NNP Mary]] [VP [VBD lost] [NP [DT the] [NN race]]]]]]]]]] \\end{forest}\n"
     ]
    }
   ],
   "source": [
    "test_doc = nlp(\"John knows that Bill knows Mary lost the race\")\n",
    "print(replace_brackets(list(test_doc.sents)[0]._.parse_string))"
   ]
  },
  {
   "cell_type": "code",
   "execution_count": 54,
   "id": "c28cdcfe-067c-4044-90e1-5aa16298b52e",
   "metadata": {},
   "outputs": [
    {
     "name": "stdout",
     "output_type": "stream",
     "text": [
      "\\begin{forest} [S [NP [NNP John]] [VP [VBZ knows] [SBAR [SBAR [IN that] [S [NP [NNP Mary]] [VP [VBD won] [NP [DT the] [NN race]]]]] [CC and] [SBAR [IN that] [S [NP [NNP Bill]] [VP [VBD lost] [NP [DT the] [NN race]]]]]]]] \\end{forest}\n"
     ]
    }
   ],
   "source": [
    "test_doc = nlp(\"John knows that Mary won the race and that Bill lost the race\")\n",
    "print(replace_brackets(list(test_doc.sents)[0]._.parse_string))"
   ]
  },
  {
   "cell_type": "code",
   "execution_count": 174,
   "id": "a5fc12a5-d44c-4934-92c8-70f93445efa0",
   "metadata": {},
   "outputs": [
    {
     "name": "stdout",
     "output_type": "stream",
     "text": [
      "\\begin{forest} [S [NP [NNP Norheim]] [VP [VBD was] [NP [NP [DT a] [NN teacher]] [PP [IN at] [NP [NP [DT the] [NNP Connaught] [NNP Junior] [NNP High] [NNP School]] [SBAR [WHNP [WDT which]] [S [VP [VBD was] [PP [IN on] [NP [DT the] [VBG neighbouring] [NN property]]] [SBAR [IN until] [S [NP [PRP it]] [VP [VBD burned] [PP [IN to] [NP [DT the] [NN ground]]]]]]]]]]]]]] \\end{forest}\n"
     ]
    }
   ],
   "source": [
    "test_doc = nlp(\"Norheim was a teacher at the Connaught Junior High School which was on the neighbouring property until it burned to the ground\")\n",
    "print(replace_brackets(list(test_doc.sents)[0]._.parse_string))"
   ]
  },
  {
   "cell_type": "code",
   "execution_count": 212,
   "id": "7d5369cd-fdfa-4610-bd62-adb51924639e",
   "metadata": {},
   "outputs": [],
   "source": [
    "def check_SBAR(span,has_SBAR = False)->bool:\n",
    "    if has_SBAR:\n",
    "        return True\n",
    "    children = list(span._.children)\n",
    "    if len(children)==0:\n",
    "        return  False    \n",
    "    for child in children:\n",
    "        if \"SBAR\" in child._.labels:\n",
    "            has_SBAR = True\n",
    "        else:\n",
    "            has_SBAR = check_SBAR(child,has_SBAR)\n",
    "    return has_SBAR"
   ]
  },
  {
   "cell_type": "code",
   "execution_count": 246,
   "id": "23e68080-9e12-467a-8c4d-4ebf415732e5",
   "metadata": {},
   "outputs": [],
   "source": [
    "def check_embedding_predicate(seg,has_predicate = False):\n",
    "    if has_predicate:\n",
    "        return True\n",
    "    children = list(seg._.children)\n",
    "    if len(children) == 0:\n",
    "        return False\n",
    "    \n",
    "    label = seg._.labels\n",
    "    \n",
    "    for child in children:\n",
    "        c_label = child._.labels\n",
    "        if \"SBAR\" in c_label:\n",
    "            if \"VP\" in label:\n",
    "                return True\n",
    "            else:\n",
    "                return False\n",
    "        has_predicate = check_embedding_predicate(child,has_predicate)\n",
    "    return has_predicate        "
   ]
  },
  {
   "cell_type": "code",
   "execution_count": 247,
   "id": "b49a8b82-37ca-485f-949c-742f67b2ff3c",
   "metadata": {},
   "outputs": [
    {
     "name": "stdout",
     "output_type": "stream",
     "text": [
      "\\begin{forest} [S [NP [PRP I]] [VP [VBP am] [NP [NP [NP [DT the] [NN man]] [PP [IN of] [NP [NN steel]]]] [SBAR [WHNP [WDT that]] [S [VP [VBZ flies]]]]]]] \\end{forest}\n"
     ]
    }
   ],
   "source": [
    "test_doc = nlp(\"I am the man of steel that flies\")\n",
    "x = list(test_doc.sents)[0]\n",
    "print(replace_brackets(x._.parse_string))"
   ]
  },
  {
   "cell_type": "code",
   "execution_count": 248,
   "id": "383807a6-ab2f-4abb-85bf-73449963de6a",
   "metadata": {},
   "outputs": [
    {
     "data": {
      "text/plain": [
       "True"
      ]
     },
     "execution_count": 248,
     "metadata": {},
     "output_type": "execute_result"
    }
   ],
   "source": [
    "check_SBAR(x)"
   ]
  },
  {
   "cell_type": "code",
   "execution_count": 250,
   "id": "bf8fc21c-54f1-406c-adee-231088f59197",
   "metadata": {},
   "outputs": [
    {
     "data": {
      "text/plain": [
       "False"
      ]
     },
     "execution_count": 250,
     "metadata": {},
     "output_type": "execute_result"
    }
   ],
   "source": [
    "check_embedding_predicate(x)\n",
    "    "
   ]
  },
  {
   "cell_type": "code",
   "execution_count": 251,
   "id": "847fc68f-d81a-4874-9f8a-5b9cf96f5d0f",
   "metadata": {},
   "outputs": [],
   "source": [
    "all_doc = nlp(all_examples)"
   ]
  },
  {
   "cell_type": "code",
   "execution_count": 252,
   "id": "21a58cf1-f62e-4580-8793-c428dd3ff61e",
   "metadata": {},
   "outputs": [
    {
     "name": "stdout",
     "output_type": "stream",
     "text": [
      "True\n",
      "True\n",
      "True\n",
      "True\n",
      "False\n",
      "False\n",
      "True\n",
      "True\n",
      "True\n",
      "True\n",
      "True\n",
      "True\n",
      "False\n",
      "True\n",
      "True\n",
      "True\n",
      "False\n",
      "False\n",
      "False\n",
      "True\n",
      "True\n",
      "True\n",
      "True\n",
      "False\n",
      "True\n",
      "False\n",
      "True\n",
      "True\n",
      "True\n",
      "True\n",
      "True\n",
      "True\n",
      "True\n",
      "True\n",
      "True\n",
      "True\n",
      "True\n",
      "True\n",
      "False\n"
     ]
    }
   ],
   "source": [
    "for sent in all_doc.sents:\n",
    "    print(check_embedding_predicate(sent))\n",
    "    "
   ]
  },
  {
   "cell_type": "code",
   "execution_count": 253,
   "id": "3098a969-8504-44eb-a5fd-f460a5645b98",
   "metadata": {},
   "outputs": [
    {
     "name": "stdout",
     "output_type": "stream",
     "text": [
      "\\begin{forest} [S [NP [NNP John]] [VP [VBD was] [ADJP [JJ happy] [SBAR [IN that] [S [NP [DT the] [NN movie]] [VP [VBD was] [ADJP [JJ good]]]]]]] [. .]] \\end{forest}\n",
      "\\begin{forest} [S [NP [NNP John]] [VP [VBD was] [ADJP [JJ happy] [SBAR [S [NP [DT the] [NN movie]] [VP [VBD was] [ADJP [JJ good]]]]]]] [. .]] \\end{forest}\n",
      "\\begin{forest} [S [NP [NNP John]] [VP [VBD thought] [PP [IN about] [SBAR [IN whether] [S [NP [NNP Mary]] [VP [MD would] [VP [VP [VB like] [NP [DT the] [NN movie]]] [CC or] [RB not]]]]]]] [. .]] \\end{forest}\n",
      "\\begin{forest} [S [S [NP [NNP John]] [VP [VBD was] [ADJP [JJ curious] [PP [IN about] [SBAR [IN whether] [CC or] [RB not] [NP [NNP Mary]] [VP [VBD liked] [NP [DT the] [NN movie]]]]]]]] [, ,] [IN so] [S [NP [PRP he]] [VP [VBD asked] [NP [PRP her]]]] [. .]] \\end{forest}\n",
      "\\begin{forest} [S [NP [NNP John]] [VP [VBZ is] [ADJP [JJ curious] [SBAR [IN if] [S [NP [PRP it]] [VP [MD will] [VP [VB rain]]]]]]] [. .]] \\end{forest}\n",
      "\\begin{forest} [S [NP [NNP John]] [VP [MD would] [VP [VB have] [VP [VP [VBN thought] [PP [IN about] [SBAR [IN whether] [S [NP [PRP he]] [VP [VBD liked] [NP [DT the] [NN movie]]]]]]] [, ,] [CC but] [VP [VBD decided] [S [RB not] [VP [TO to]]]]]]] [. .]] \\end{forest}\n",
      "\\begin{forest} [S [NP [NNP John]] [VP [VBZ is] [ADJP [JJ happy] [PP [IN about] [SBAR [WHNP [WDT which] [NN student]] [S [VP [VBD won] [NP [DT the] [NN race]]]]]]]] [. .]] \\end{forest}\n",
      "\\begin{forest} [S [NP [NNP John]] [VP [VBZ is] [RB not] [ADJP [JJ certain] [SBAR [WHNP [WDT which]] [S [VP [VBZ is] [NP [DT the] [JJS highest] [NN score]]]]]]] [. .]] \\end{forest}\n",
      "\\begin{forest} [S [NP [PRP I]] [VP [VBP ’m] [RB not] [ADJP [JJ certain] [SBAR [IN if] [S [NP [NNP Mary]] [VP [VBD read] [NP [NP [NNP War] [CC and] [NNP Peace]] [CC or] [NP [NNP Anna] [NNP Karenina]]]]]]]] [. .]] \\end{forest}\n"
     ]
    }
   ],
   "source": [
    "for sent in all_doc.sents:\n",
    "    # print(check_SBAR(sent))\n",
    "    if not check_embedding_predicate(sent):\n",
    "        print (replace_brackets(sent._.parse_string))"
   ]
  },
  {
   "cell_type": "code",
   "execution_count": null,
   "id": "07eb1f19-aa45-4ef7-be2c-54b01366e622",
   "metadata": {},
   "outputs": [],
   "source": []
  }
 ],
 "metadata": {
  "kernelspec": {
   "display_name": "Python 3 (ipykernel)",
   "language": "python",
   "name": "python3"
  },
  "language_info": {
   "codemirror_mode": {
    "name": "ipython",
    "version": 3
   },
   "file_extension": ".py",
   "mimetype": "text/x-python",
   "name": "python",
   "nbconvert_exporter": "python",
   "pygments_lexer": "ipython3",
   "version": "3.11.6"
  }
 },
 "nbformat": 4,
 "nbformat_minor": 5
}
