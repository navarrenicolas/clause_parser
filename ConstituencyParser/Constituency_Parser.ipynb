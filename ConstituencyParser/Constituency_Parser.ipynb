{
 "cells": [
  {
   "cell_type": "code",
   "execution_count": 1,
   "id": "94f2acfd-a2e3-4ba9-b1b1-31ab51a2d32d",
   "metadata": {},
   "outputs": [],
   "source": [
    "import benepar, spacy"
   ]
  },
  {
   "cell_type": "code",
   "execution_count": 2,
   "id": "f680f71a-00df-45d0-804c-11f7a3dea025",
   "metadata": {
    "scrolled": true
   },
   "outputs": [
    {
     "name": "stderr",
     "output_type": "stream",
     "text": [
      "/opt/homebrew/lib/python3.11/site-packages/tqdm/auto.py:21: TqdmWarning: IProgress not found. Please update jupyter and ipywidgets. See https://ipywidgets.readthedocs.io/en/stable/user_install.html\n",
      "  from .autonotebook import tqdm as notebook_tqdm\n",
      "You are using the default legacy behaviour of the <class 'transformers.models.t5.tokenization_t5.T5Tokenizer'>. This is expected, and simply means that the `legacy` (previous) behavior will be used so nothing changes for you. If you want to use the new behaviour, set `legacy=False`. This should only be set if you understand what it means, and thouroughly read the reason why this was added as explained in https://github.com/huggingface/transformers/pull/24565\n"
     ]
    }
   ],
   "source": [
    "#nlp.add_pipe('benepar', config={'model': 'benepar_en3'})\n",
    "nlp = spacy.load('en_core_web_md')\n",
    "if spacy.__version__.startswith('2'):\n",
    "    nlp.add_pipe(benepar.BeneparComponent(\"benepar_en3\"))\n",
    "else:\n",
    "    nlp.add_pipe(\"benepar\", config={\"model\": \"benepar_en3\"})"
   ]
  },
  {
   "cell_type": "code",
   "execution_count": 3,
   "id": "5768bd6b-2e3c-490a-8b70-72dca2f6c6f3",
   "metadata": {},
   "outputs": [],
   "source": [
    "filepath = '../ClauseEmbeddingExamples/'"
   ]
  },
  {
   "cell_type": "code",
   "execution_count": 4,
   "id": "0694171a-de8c-4779-9f85-80a9d87553df",
   "metadata": {},
   "outputs": [],
   "source": [
    "# Can change this file to any other kkind of clause embedding\n",
    "# filename = 'finite-alternative-interrogative-clauses.txt'\n",
    "# filename = 'finite-declarative-clauses.txt'\n",
    "# filename = 'finite-polar-interrogative-clauses.txt'\n",
    "# filename = 'finite-consituent-interrogative-clauses.txt'\n",
    "filename = 'adversarial.txt'"
   ]
  },
  {
   "cell_type": "code",
   "execution_count": 5,
   "id": "28a5f058-45a2-4aa3-b459-ad48d1a2221c",
   "metadata": {},
   "outputs": [
    {
     "name": "stderr",
     "output_type": "stream",
     "text": [
      "You're using a T5TokenizerFast tokenizer. Please note that with a fast tokenizer, using the `__call__` method is faster than using a method to encode the text followed by a call to the `pad` method to get a padded encoding.\n",
      "/opt/homebrew/lib/python3.11/site-packages/torch/distributions/distribution.py:53: UserWarning: <class 'torch_struct.distributions.TreeCRF'> does not define `arg_constraints`. Please set `arg_constraints = {}` or initialize the distribution with `validate_args=False` to turn off validation.\n",
      "  warnings.warn(\n"
     ]
    }
   ],
   "source": [
    "with open(filepath+filename) as file:\n",
    "    sents = file.read().replace('\\n', ' ') # Concatenate all the sentences with a space instead of a new line character.\n",
    "    doc = nlp(sents)"
   ]
  },
  {
   "cell_type": "code",
   "execution_count": 6,
   "id": "0f590768-50e7-4056-a33a-8ba16d91a18d",
   "metadata": {},
   "outputs": [
    {
     "data": {
      "text/plain": [
       "['(S (NP (PRP I)) (VP (MD ’ll) (VP (VB be) (ADJP (JJ happy)) (SBAR (IN if) (S (NP (PRP it)) (VP (VBZ ’s) (ADJP (JJ true))))))) (. .))',\n",
       " '(S (NP (NNP John)) (VP (VBZ is) (ADJP (JJ happy) (SBAR (WHNP (WDT whichever) (NN student)) (S (VP (VBD won) (NP (DT the) (NN race))))))) (. .))',\n",
       " '(S (NP (NNP John)) (VP (VP (VBZ is) (ADJP (JJ certain))) (, ,) (SBAR (WHNP (WDT which)) (S (VP (VBZ is) (ADJP (JJ nice)))))) (. .))',\n",
       " '(S (NP (NNP John)) (VP (VBD spilt) (SBAR (WHNP (WP what)) (S (NP (NNP Mary)) (VP (VBD was) (VP (VBG cooking)))))) (. .))',\n",
       " '(S (NP (PRP I)) (VP (VBD met) (SBAR (WHNP (WP who)) (S (VP (VBD was) (VP (VBG driving) (NP (DT the) (NN car))))))) (. .))',\n",
       " '(S (NP (PRP I)) (VP (MD will) (VP (VB leave) (SBAR (IN whether) (CC or) (RB not) (S (NP (PRP you)) (VP (VBP want) (S (NP (PRP me)) (VP (TO to)))))))) (. .))']"
      ]
     },
     "execution_count": 6,
     "metadata": {},
     "output_type": "execute_result"
    }
   ],
   "source": [
    "parse_strings = [sent._.parse_string for sent in list(doc.sents)]\n",
    "parse_strings"
   ]
  },
  {
   "cell_type": "code",
   "execution_count": 7,
   "id": "d9eb23b6-e46e-4f23-bc39-410bb38a9912",
   "metadata": {},
   "outputs": [],
   "source": [
    "def replace_brackets(parsed_string):\n",
    "    # Replace round brackets with square brackets\n",
    "    replaced_string = parsed_string.replace('(', '[').replace(')', ']')\n",
    "    \n",
    "    # Wrap the string with \\begin{forest} and \\end{forest}\n",
    "    final_string = '\\\\begin{forest} ' + replaced_string + ' \\\\end{forest}'\n",
    "    \n",
    "    return final_string"
   ]
  },
  {
   "cell_type": "code",
   "execution_count": 8,
   "id": "b7c2a155-f122-4392-8e51-2d4055745d2c",
   "metadata": {},
   "outputs": [
    {
     "name": "stdout",
     "output_type": "stream",
     "text": [
      "\\begin{forest} [S [NP [PRP I]] [VP [MD ’ll] [VP [VB be] [ADJP [JJ happy]] [SBAR [IN if] [S [NP [PRP it]] [VP [VBZ ’s] [ADJP [JJ true]]]]]]] [. .]] \\end{forest}\n",
      "\\begin{forest} [S [NP [NNP John]] [VP [VBZ is] [ADJP [JJ happy] [SBAR [WHNP [WDT whichever] [NN student]] [S [VP [VBD won] [NP [DT the] [NN race]]]]]]] [. .]] \\end{forest}\n",
      "\\begin{forest} [S [NP [NNP John]] [VP [VP [VBZ is] [ADJP [JJ certain]]] [, ,] [SBAR [WHNP [WDT which]] [S [VP [VBZ is] [ADJP [JJ nice]]]]]] [. .]] \\end{forest}\n",
      "\\begin{forest} [S [NP [NNP John]] [VP [VBD spilt] [SBAR [WHNP [WP what]] [S [NP [NNP Mary]] [VP [VBD was] [VP [VBG cooking]]]]]] [. .]] \\end{forest}\n",
      "\\begin{forest} [S [NP [PRP I]] [VP [VBD met] [SBAR [WHNP [WP who]] [S [VP [VBD was] [VP [VBG driving] [NP [DT the] [NN car]]]]]]] [. .]] \\end{forest}\n",
      "\\begin{forest} [S [NP [PRP I]] [VP [MD will] [VP [VB leave] [SBAR [IN whether] [CC or] [RB not] [S [NP [PRP you]] [VP [VBP want] [S [NP [PRP me]] [VP [TO to]]]]]]]] [. .]] \\end{forest}\n"
     ]
    }
   ],
   "source": [
    "# Test the function with the given example\n",
    "latex_parse_trees = [replace_brackets(sent) for sent in parse_strings]\n",
    "print(\"\\n\".join(latex_parse_trees))"
   ]
  },
  {
   "cell_type": "markdown",
   "id": "a746bac2-cbf7-462d-aa6b-3a3fbb451287",
   "metadata": {},
   "source": [
    "# Individual examples"
   ]
  },
  {
   "cell_type": "code",
   "execution_count": 12,
   "id": "71bc3db5-9b65-4130-b187-7d8e1e0f2d82",
   "metadata": {},
   "outputs": [
    {
     "name": "stdout",
     "output_type": "stream",
     "text": [
      "\\begin{forest} [S [NP [NP [DT The] [NNS developers]] [PP [IN in] [NP [NNP PG]]]] [VP [VBP seem] [S [VP [TO to] [VP [VP [VB be] [ADJP [RB very] [NN risk] [JJ adverse]]] [CC and] [VP [VBP lack] [NP [NP [DT the] [NN vision] [CC and] [NN capasity]] [SBAR [S [VP [TO to] [VP [VB grow] [NP [DT this] [NN city]] [PP [IN to] [NP [PRP$ its] [NN potential]]]]]]]]]]]]] [. .]] \\end{forest}\n"
     ]
    }
   ],
   "source": [
    "test_doc = nlp(\"The developers in PG seem to be very risk adverse and lack the vision and capasity to grow this city to its potential.\")\n",
    "print(replace_brackets(list(test_doc.sents)[0]._.parse_string))"
   ]
  },
  {
   "cell_type": "code",
   "execution_count": 14,
   "id": "401562a8-ba6b-4e4c-90ba-4776f0082a87",
   "metadata": {},
   "outputs": [
    {
     "name": "stdout",
     "output_type": "stream",
     "text": [
      "\\begin{forest} [S [NP [PRP I]] [VP [VBP have] [NP [ADJP [RB absolutely] [DT no]] [NN confidence] [SBAR [IN that] [S [NP [NNP Bill]] [VP [MD will] [VP [VB win] [NP [DT the] [NN race]]]]]]]]] \\end{forest}\n"
     ]
    }
   ],
   "source": [
    "test_doc = nlp(\"I have absolutely no confidence that Bill will win the race\")\n",
    "print(replace_brackets(list(test_doc.sents)[0]._.parse_string))"
   ]
  },
  {
   "cell_type": "code",
   "execution_count": 19,
   "id": "38f0bee1-1d3e-463a-8431-14d8bfc363ac",
   "metadata": {},
   "outputs": [
    {
     "name": "stdout",
     "output_type": "stream",
     "text": [
      "\\begin{forest} [S [NP [NNP John]] [VP [VP [VBZ knows] [SBAR [WHNP [WP who]] [S [VP [VBD won] [NP [DT the] [NN race]]]]]] [, ,] [CC but] [VP [MD wo] [RB n't] [VP [VB tell] [NP [PRP us]]]]]] \\end{forest}\n"
     ]
    }
   ],
   "source": [
    "test_doc = nlp(\"John knows who won the race, but won't tell us who\")\n",
    "print(replace_brackets(list(test_doc.sents)[0]._.parse_string))"
   ]
  },
  {
   "cell_type": "code",
   "execution_count": null,
   "id": "c28cdcfe-067c-4044-90e1-5aa16298b52e",
   "metadata": {},
   "outputs": [],
   "source": []
  }
 ],
 "metadata": {
  "kernelspec": {
   "display_name": "Python 3 (ipykernel)",
   "language": "python",
   "name": "python3"
  },
  "language_info": {
   "codemirror_mode": {
    "name": "ipython",
    "version": 3
   },
   "file_extension": ".py",
   "mimetype": "text/x-python",
   "name": "python",
   "nbconvert_exporter": "python",
   "pygments_lexer": "ipython3",
   "version": "3.11.6"
  }
 },
 "nbformat": 4,
 "nbformat_minor": 5
}
