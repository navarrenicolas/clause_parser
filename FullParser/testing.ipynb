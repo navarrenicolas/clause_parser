{
 "cells": [
  {
   "cell_type": "code",
   "execution_count": 6,
   "id": "556f0cd6-a3c3-4f2a-a9bc-3ab418eb7728",
   "metadata": {},
   "outputs": [],
   "source": [
    "import spacy, benepar\n",
    "#benepar.download('benepar_en3')"
   ]
  },
  {
   "cell_type": "code",
   "execution_count": 7,
   "id": "024abcba-0805-499e-994c-46f181cdbc93",
   "metadata": {},
   "outputs": [],
   "source": [
    "import numpy as np\n",
    "import time"
   ]
  },
  {
   "cell_type": "code",
   "execution_count": 8,
   "id": "1c3ba33d-6c90-4a91-a0f9-42034557dee8",
   "metadata": {},
   "outputs": [],
   "source": [
    "nlp = spacy.load('en_core_web_md')"
   ]
  },
  {
   "cell_type": "code",
   "execution_count": 9,
   "id": "2128c1a4-8a5a-4859-b97c-6f83c62cf4a6",
   "metadata": {},
   "outputs": [],
   "source": [
    "if spacy.__version__.startswith('2'):\n",
    "    nlp.add_pipe(benepar.BeneparComponent(\"benepar_en3\"))\n",
    "else:\n",
    "    nlp.add_pipe(\"benepar\", config={\"model\": \"benepar_en3\"})"
   ]
  },
  {
   "cell_type": "code",
   "execution_count": 10,
   "id": "898ca81e-953e-4daf-b82e-435effc47910",
   "metadata": {},
   "outputs": [],
   "source": [
    "import sys\n",
    "sys.path.append('../')\n",
    "from FullParser.ClauseParser import ClauseParser\n",
    "import pandas as pd"
   ]
  },
  {
   "cell_type": "code",
   "execution_count": 11,
   "id": "5509ab1c-b43e-40d0-a5b3-78515a7f8fcc",
   "metadata": {},
   "outputs": [],
   "source": [
    "parser = ClauseParser()"
   ]
  },
  {
   "cell_type": "code",
   "execution_count": 12,
   "id": "8c7d4baf-81de-4c35-81cb-1d699cf7cc1b",
   "metadata": {},
   "outputs": [],
   "source": [
    "def read_file(file_path):\n",
    "    with open(file_path, 'r', encoding = 'utf-8') as f:\n",
    "        for line in f:\n",
    "            yield line"
   ]
  },
  {
   "cell_type": "code",
   "execution_count": 13,
   "id": "cdacb70e-2f1c-44e3-bca0-ad9bb43adc53",
   "metadata": {},
   "outputs": [],
   "source": [
    "dolma_path = \"../Datasets/dolma/dolma/dolma_text/\"\n",
    "current_file = \"v1_5r2_sample-0005.txt\""
   ]
  },
  {
   "cell_type": "code",
   "execution_count": null,
   "id": "7effe737-2433-45d5-b864-3deb27ece7e8",
   "metadata": {},
   "outputs": [],
   "source": [
    "t = time.time()\n",
    "times = []\n",
    "line_count = 1\n",
    "ECs = []\n",
    "for line in read_file(dolma_path+current_file):\n",
    "    sline = line.strip('\\n')\n",
    "    if len(line) <100 :\n",
    "        try:\n",
    "            doc = nlp(sline)\n",
    "            for sent in doc.sents:\n",
    "                parse = parser.parse_clauses(sent)\n",
    "                if parse != []:\n",
    "                    # print(f'Line {line_count} has an embedded clause!')\n",
    "                    ECs.append(parse)\n",
    "        except Exception as e:\n",
    "            #print(f\"Error encountered while processing line {line_count}: {sline}\")\n",
    "            print(e)\n",
    "            pass  # Do nothing, continue to next line\n",
    "    line_count+=1\n",
    "    if line_count % 1000 == 0:\n",
    "        print(f'Time to parse 1000 entries: {time.time()-t}')\n",
    "        times.append(time.time()-t)\n",
    "        t = time.time()"
   ]
  },
  {
   "cell_type": "code",
   "execution_count": 58,
   "id": "70423312-01f3-4bb6-ada0-590e2d6e5678",
   "metadata": {},
   "outputs": [
    {
     "data": {
      "text/plain": [
       "15562"
      ]
     },
     "execution_count": 58,
     "metadata": {},
     "output_type": "execute_result"
    }
   ],
   "source": [
    "len(ECs)/(np.sum(times)/60/60)"
   ]
  },
  {
   "cell_type": "code",
   "execution_count": 45,
   "id": "45aa10e2-efcc-4863-8bc3-95d51be9e424",
   "metadata": {},
   "outputs": [
    {
     "data": {
      "text/plain": [
       "0.15009639435610203"
      ]
     },
     "execution_count": 45,
     "metadata": {},
     "output_type": "execute_result"
    }
   ],
   "source": [
    "1000*(np.sum(times)/60/60)"
   ]
  },
  {
   "cell_type": "code",
   "execution_count": 92,
   "id": "cff3ebcf-6080-457b-9af1-677da93eb65f",
   "metadata": {},
   "outputs": [],
   "source": [
    "predicates = []\n",
    "for entry in ECs:\n",
    "    for clause in entry:\n",
    "        if not clause['predicate']:\n",
    "            continue\n",
    "        pred_string = ''\n",
    "        for pred in clause['predicate']:\n",
    "            pred_string += pred['str']\n",
    "        predicates.append(pred_string)"
   ]
  },
  {
   "cell_type": "code",
   "execution_count": 85,
   "id": "baeac801-9b7a-445d-bd58-5f95c951cc32",
   "metadata": {},
   "outputs": [],
   "source": [
    "import matplotlib.pyplot as plt"
   ]
  },
  {
   "cell_type": "code",
   "execution_count": 96,
   "id": "49851f28-2c88-4375-b239-e7e4a274e2be",
   "metadata": {},
   "outputs": [
    {
     "data": {
      "text/plain": [
       "(array([\"'m\", \"'mLonesome\", \"'maaaah\", ..., '’s’vebeentryingexplainto',\n",
       "        '’s’vecaughtupwith', '’vebeen'], dtype='<U56'),\n",
       " array([2, 1, 1, ..., 1, 1, 1]))"
      ]
     },
     "execution_count": 96,
     "metadata": {},
     "output_type": "execute_result"
    }
   ],
   "source": [
    "np.unique(predicates, return_counts=rue)"
   ]
  },
  {
   "cell_type": "code",
   "execution_count": 83,
   "id": "625e3d46-aaee-44a0-88ab-4ba036e7d38a",
   "metadata": {},
   "outputs": [
    {
     "data": {
      "text/plain": [
       "'turn'"
      ]
     },
     "execution_count": 83,
     "metadata": {},
     "output_type": "execute_result"
    }
   ],
   "source": []
  },
  {
   "cell_type": "code",
   "execution_count": 95,
   "id": "65919364-1005-4c4d-bc39-219eedf663fe",
   "metadata": {},
   "outputs": [
    {
     "data": {
      "text/plain": [
       "<BarContainer object of 6607 artists>"
      ]
     },
     "execution_count": 95,
     "metadata": {},
     "output_type": "execute_result"
    },
    {
     "name": "stderr",
     "output_type": "stream",
     "text": [
      "/opt/homebrew/Caskroom/miniconda/base/envs/benepar_env/lib/python3.12/site-packages/IPython/core/events.py:82: UserWarning: Glyph 127815 (\\N{GRAPES}) missing from current font.\n",
      "  func(*args, **kwargs)\n",
      "/opt/homebrew/Caskroom/miniconda/base/envs/benepar_env/lib/python3.12/site-packages/IPython/core/pylabtools.py:170: UserWarning: Glyph 127815 (\\N{GRAPES}) missing from current font.\n",
      "  fig.canvas.print_figure(bytes_io, **kw)\n"
     ]
    },
    {
     "data": {
      "image/png": "[encoded data removed]",
      "text/plain": [
       "<Figure size 640x480 with 1 Axes>"
      ]
     },
     "metadata": {},
     "output_type": "display_data"
    }
   ],
   "source": [
    "(lambda x: plt.bar(x[0],x[1]))(np.unique(predicates, return_counts=True))"
   ]
  },
  {
   "cell_type": "code",
   "execution_count": 41,
   "id": "44c510f0-1b0e-45b4-9045-cfd6ea3813f7",
   "metadata": {},
   "outputs": [
    {
     "data": {
      "text/plain": [
       "(array([ 1.,  0.,  1.,  2.,  1.,  0.,  3.,  1.,  1.,  1.,  6.,  6.,  5.,\n",
       "         8.,  9., 14., 13., 23., 12., 16., 22., 26., 22., 27., 23., 29.,\n",
       "        29., 23., 21., 19., 25., 13., 26., 26., 14., 11., 16., 11., 13.,\n",
       "         9., 13., 11.,  5.,  8.,  8.,  6.,  2.,  2.,  5.,  4.,  3.,  2.,\n",
       "         4.,  1.,  1.,  3.,  2.,  3.,  0.,  1.,  0.,  1.,  1.,  2.,  0.,\n",
       "         1.,  0.,  0.,  1.,  0.,  1.,  0.,  0.,  0.,  0.,  1.,  0.,  0.,\n",
       "         0.,  0.,  0.,  0.,  0.,  0.,  0.,  0.,  0.,  0.,  0.,  0.,  1.,\n",
       "         0.,  0.,  0.,  0.,  0.,  0.,  0.,  0.,  1.]),\n",
       " array([ 5.7091372 ,  5.86256789,  6.01599858,  6.16942927,  6.32285995,\n",
       "         6.47629064,  6.62972133,  6.78315202,  6.93658271,  7.0900134 ,\n",
       "         7.24344409,  7.39687477,  7.55030546,  7.70373615,  7.85716684,\n",
       "         8.01059753,  8.16402822,  8.3174589 ,  8.47088959,  8.62432028,\n",
       "         8.77775097,  8.93118166,  9.08461235,  9.23804303,  9.39147372,\n",
       "         9.54490441,  9.6983351 ,  9.85176579, 10.00519648, 10.15862716,\n",
       "        10.31205785, 10.46548854, 10.61891923, 10.77234992, 10.92578061,\n",
       "        11.07921129, 11.23264198, 11.38607267, 11.53950336, 11.69293405,\n",
       "        11.84636474, 11.99979542, 12.15322611, 12.3066568 , 12.46008749,\n",
       "        12.61351818, 12.76694887, 12.92037956, 13.07381024, 13.22724093,\n",
       "        13.38067162, 13.53410231, 13.687533  , 13.84096369, 13.99439437,\n",
       "        14.14782506, 14.30125575, 14.45468644, 14.60811713, 14.76154782,\n",
       "        14.9149785 , 15.06840919, 15.22183988, 15.37527057, 15.52870126,\n",
       "        15.68213195, 15.83556263, 15.98899332, 16.14242401, 16.2958547 ,\n",
       "        16.44928539, 16.60271608, 16.75614676, 16.90957745, 17.06300814,\n",
       "        17.21643883, 17.36986952, 17.52330021, 17.6767309 , 17.83016158,\n",
       "        17.98359227, 18.13702296, 18.29045365, 18.44388434, 18.59731503,\n",
       "        18.75074571, 18.9041764 , 19.05760709, 19.21103778, 19.36446847,\n",
       "        19.51789916, 19.67132984, 19.82476053, 19.97819122, 20.13162191,\n",
       "        20.2850526 , 20.43848329, 20.59191397, 20.74534466, 20.89877535,\n",
       "        21.05220604]),\n",
       " <BarContainer object of 100 artists>)"
      ]
     },
     "execution_count": 41,
     "metadata": {},
     "output_type": "execute_result"
    },
    {
     "data": {
      "image/png": "[encoded data removed]",
      "text/plain": [
       "<Figure size 640x480 with 1 Axes>"
      ]
     },
     "metadata": {},
     "output_type": "display_data"
    }
   ],
   "source": [
    "plt.hist(times,bins=100)"
   ]
  }
 ],
 "metadata": {
  "kernelspec": {
   "display_name": "benepar_env",
   "language": "python",
   "name": "benepar_env"
  },
  "language_info": {
   "codemirror_mode": {
    "name": "ipython",
    "version": 3
   },
   "file_extension": ".py",
   "mimetype": "text/x-python",
   "name": "python",
   "nbconvert_exporter": "python",
   "pygments_lexer": "ipython3",
   "version": "3.12.4"
  }
 },
 "nbformat": 4,
 "nbformat_minor": 5
}
