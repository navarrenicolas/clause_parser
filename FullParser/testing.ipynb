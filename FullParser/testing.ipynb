{
 "cells": [
  {
   "cell_type": "code",
   "execution_count": 22,
   "id": "556f0cd6-a3c3-4f2a-a9bc-3ab418eb7728",
   "metadata": {},
   "outputs": [],
   "source": [
    "import spacy, benepar, nltk\n",
    "#benepar.download('benepar_en3')"
   ]
  },
  {
   "cell_type": "code",
   "execution_count": 23,
   "id": "024abcba-0805-499e-994c-46f181cdbc93",
   "metadata": {},
   "outputs": [],
   "source": [
    "import numpy as np\n",
    "import matplotlib.pyplot as plt\n",
    "import time\n",
    "import pyperclip as clip"
   ]
  },
  {
   "cell_type": "code",
   "execution_count": 24,
   "id": "1c3ba33d-6c90-4a91-a0f9-42034557dee8",
   "metadata": {},
   "outputs": [],
   "source": [
    "nlp = spacy.load('en_core_web_md')"
   ]
  },
  {
   "cell_type": "code",
   "execution_count": 25,
   "id": "2128c1a4-8a5a-4859-b97c-6f83c62cf4a6",
   "metadata": {},
   "outputs": [],
   "source": [
    "if spacy.__version__.startswith('2'):\n",
    "    nlp.add_pipe(benepar.BeneparComponent(\"benepar_en3\"))\n",
    "else:\n",
    "    nlp.add_pipe(\"benepar\", config={\"model\": \"benepar_en3\"})"
   ]
  },
  {
   "cell_type": "code",
   "execution_count": 26,
   "id": "898ca81e-953e-4daf-b82e-435effc47910",
   "metadata": {},
   "outputs": [],
   "source": [
    "import sys\n",
    "sys.path.append('../')\n",
    "from FullParser.ClauseParser import ClauseParser\n",
    "import pandas as pd"
   ]
  },
  {
   "cell_type": "code",
   "execution_count": 27,
   "id": "5509ab1c-b43e-40d0-a5b3-78515a7f8fcc",
   "metadata": {},
   "outputs": [],
   "source": [
    "parser = ClauseParser()"
   ]
  },
  {
   "cell_type": "code",
   "execution_count": 28,
   "id": "8c7d4baf-81de-4c35-81cb-1d699cf7cc1b",
   "metadata": {},
   "outputs": [],
   "source": [
    "def read_file(file_path):\n",
    "    with open(file_path, 'r', encoding = 'utf-8') as f:\n",
    "        for line in f:\n",
    "            yield line"
   ]
  },
  {
   "cell_type": "code",
   "execution_count": 29,
   "id": "cdacb70e-2f1c-44e3-bca0-ad9bb43adc53",
   "metadata": {},
   "outputs": [],
   "source": [
    "dolma_path = \"../Datasets/dolma/dolma/dolma_text/\"\n",
    "current_file = \"v1_5r2_sample-0005.txt\""
   ]
  },
  {
   "cell_type": "code",
   "execution_count": 156,
   "id": "7d829ac8-da82-4443-b9de-45c9d35a843a",
   "metadata": {},
   "outputs": [
    {
     "data": {
      "text/plain": [
       "37293"
      ]
     },
     "execution_count": 156,
     "metadata": {},
     "output_type": "execute_result"
    }
   ],
   "source": [
    "# Fully processed sample of sample\n",
    "new_ECs = pd.read_json('./v1_5r2_sample-0005.txt.json')"
   ]
  },
  {
   "cell_type": "code",
   "execution_count": 296,
   "id": "15e51b1b-b295-4f9d-b592-b3e3c462817c",
   "metadata": {},
   "outputs": [],
   "source": [
    "# Mega acceptability White & Rawlins 2016, 2020 An & White 2020\n",
    "mega_acceptability = pd.read_csv('../Datasets/mega-acceptability-v2/mega-acceptability-v2.tsv',sep='\\t')"
   ]
  },
  {
   "cell_type": "code",
   "execution_count": 317,
   "id": "2cbc178e-3e93-4e41-9483-9d9941c836df",
   "metadata": {},
   "outputs": [],
   "source": [
    "mega_verbs = (set(mega_acceptability.verb.values))"
   ]
  },
  {
   "cell_type": "markdown",
   "id": "eeb1615a-93cf-4b0d-9003-ad15fdf8cb49",
   "metadata": {},
   "source": [
    "## Predicate Lemma distibution"
   ]
  },
  {
   "cell_type": "code",
   "execution_count": 291,
   "id": "68011cd8-71fe-4d16-9b73-458d2191301d",
   "metadata": {},
   "outputs": [],
   "source": [
    "# quick and dirty concatenation of predicate lemmas\n",
    "new_ECs['pred_lemmas'] = new_ECs['predicate'].apply(lambda x: ' '.join([pred['lemma'] for pred in x]))"
   ]
  },
  {
   "cell_type": "code",
   "execution_count": 292,
   "id": "f208187b-b406-45e5-80cd-4cb8b2f75265",
   "metadata": {},
   "outputs": [
    {
     "data": {
      "text/plain": [
       "pred_lemmas\n",
       "             29\n",
       "check        13\n",
       "know         11\n",
       "ask           9\n",
       "decide        9\n",
       "             ..\n",
       "vote on       1\n",
       "weigh         1\n",
       "’ clear       1\n",
       "’ from on     1\n",
       "’ unclear     1\n",
       "Name: count, Length: 73, dtype: int64"
      ]
     },
     "execution_count": 292,
     "metadata": {},
     "output_type": "execute_result"
    }
   ],
   "source": [
    "new_ECs.groupby('type')['pred_lemmas'].value_counts()['polar']"
   ]
  },
  {
   "cell_type": "code",
   "execution_count": 293,
   "id": "649837d4-ff85-4d0b-a70f-2f4d5d0534df",
   "metadata": {},
   "outputs": [
    {
     "data": {
      "text/plain": [
       "pred_lemmas\n",
       "know                       5\n",
       "                           3\n",
       "matter                     3\n",
       "decide                     2\n",
       "say                        2\n",
       "ask                        1\n",
       "assess                     1\n",
       "be at corporate            1\n",
       "be clear                   1\n",
       "be fine                    1\n",
       "be great                   1\n",
       "be to layoff               1\n",
       "be welcome                 1\n",
       "care                       1\n",
       "check                      1\n",
       "count                      1\n",
       "define                     1\n",
       "determine                  1\n",
       "determine by               1\n",
       "die                        1\n",
       "fast on                    1\n",
       "get most out of            1\n",
       "happen                     1\n",
       "help                       1\n",
       "help set                   1\n",
       "in                         1\n",
       "indicate on                1\n",
       "look                       1\n",
       "of                         1\n",
       "roll out between depend    1\n",
       "up to                      1\n",
       "’                          1\n",
       "Name: count, dtype: int64"
      ]
     },
     "execution_count": 293,
     "metadata": {},
     "output_type": "execute_result"
    }
   ],
   "source": [
    "new_ECs.groupby('type')['pred_lemmas'].value_counts()['alternative']"
   ]
  },
  {
   "cell_type": "code",
   "execution_count": 294,
   "id": "0fe4980b-55e7-40a2-bb5a-1a9b4742a6ca",
   "metadata": {},
   "outputs": [
    {
     "data": {
      "text/plain": [
       "pred_lemmas\n",
       "                    2279\n",
       "know                1112\n",
       "see                  608\n",
       "tell                 271\n",
       "learn                254\n",
       "                    ... \n",
       "’re safe healthy       1\n",
       "’re savvy              1\n",
       "’re unsure             1\n",
       "’ve                    1\n",
       "’ve cute be            1\n",
       "Name: count, Length: 2705, dtype: int64"
      ]
     },
     "execution_count": 294,
     "metadata": {},
     "output_type": "execute_result"
    }
   ],
   "source": [
    "new_ECs.groupby('type')['pred_lemmas'].value_counts()['constituent']"
   ]
  },
  {
   "cell_type": "code",
   "execution_count": 295,
   "id": "a44bd35c-144b-4da6-99d3-e0d3d0a3cfec",
   "metadata": {},
   "outputs": [
    {
     "data": {
      "text/plain": [
       "pred_lemmas\n",
       "                                      3607\n",
       "think                                 1822\n",
       "say                                   1625\n",
       "know                                  1049\n",
       "hope                                   913\n",
       "                                      ... \n",
       "’re happy with                           1\n",
       "’re hopeful                              1\n",
       "’re prepared                             1\n",
       "’re sweet                                1\n",
       "’s getting find by local potential       1\n",
       "Name: count, Length: 4485, dtype: int64"
      ]
     },
     "execution_count": 295,
     "metadata": {},
     "output_type": "execute_result"
    }
   ],
   "source": [
    "new_ECs.groupby('type')['pred_lemmas'].value_counts()['declarative']"
   ]
  },
  {
   "cell_type": "markdown",
   "id": "06f8bf4d-623f-4391-b072-1093417ccaba",
   "metadata": {},
   "source": [
    "## MegaAcceptability comparisson"
   ]
  },
  {
   "cell_type": "code",
   "execution_count": 319,
   "id": "b575de3c-773e-403b-a9ef-ffbbcf571687",
   "metadata": {},
   "outputs": [
    {
     "data": {
      "text/plain": [
       "440"
      ]
     },
     "execution_count": 319,
     "metadata": {},
     "output_type": "execute_result"
    }
   ],
   "source": [
    "# Predicates found from MegaAcceptability\n",
    "found_MA_preds = {pred for pred in set(new_ECs['pred_lemmas'].values) if pred in mega_verbs}\n",
    "len(found_MA_preds)"
   ]
  },
  {
   "cell_type": "code",
   "execution_count": 391,
   "id": "3f318047-0dc4-4ccd-a77e-3f1a0ebc5f75",
   "metadata": {},
   "outputs": [
    {
     "data": {
      "text/plain": [
       "pred_lemmas\n",
       "know          2177\n",
       "think         1863\n",
       "say           1718\n",
       "hope           920\n",
       "see            874\n",
       "tell           602\n",
       "believe        387\n",
       "mean           386\n",
       "learn          322\n",
       "wonder         291\n",
       "ensure         286\n",
       "show           285\n",
       "note           253\n",
       "feel           234\n",
       "ask            218\n",
       "wish           212\n",
       "remember       208\n",
       "happen         199\n",
       "guess          199\n",
       "understand     195\n",
       "Name: count, dtype: int64"
      ]
     },
     "execution_count": 391,
     "metadata": {},
     "output_type": "execute_result"
    }
   ],
   "source": [
    "MA_pred_counts = new_ECs[new_ECs['pred_lemmas'].apply(lambda x: x in found_MA_preds)]['pred_lemmas'].value_counts() \n",
    "MA_pred_counts[:20]"
   ]
  },
  {
   "cell_type": "code",
   "execution_count": 365,
   "id": "eb79b145-34c2-4bd8-8f22-3e406aa67ebf",
   "metadata": {},
   "outputs": [
    {
     "data": {
      "text/plain": [
       "<Axes: xlabel='pred_lemmas'>"
      ]
     },
     "execution_count": 365,
     "metadata": {},
     "output_type": "execute_result"
    },
    {
     "data": {
      "image/png": "[encoded data removed]",
      "text/plain": [
       "<Figure size 640x480 with 1 Axes>"
      ]
     },
     "metadata": {},
     "output_type": "display_data"
    }
   ],
   "source": [
    "MA_pred_counts.plot.bar()"
   ]
  },
  {
   "cell_type": "markdown",
   "id": "666e48a8-f776-474d-80a8-d5b4780fa478",
   "metadata": {},
   "source": [
    "## Analyzing Predicates beyond MA"
   ]
  },
  {
   "cell_type": "code",
   "execution_count": 352,
   "id": "683ba54a-f7a3-484e-9064-13c4978ae702",
   "metadata": {},
   "outputs": [],
   "source": [
    "# Predicates not in MegaAcceptability\n",
    "extra_MA_preds = set(filter( lambda x: all(c.isalnum() for c in x), {pred for pred in set(new_ECs[new_ECs['predicate'].apply(lambda x: len(x)==1)]['pred_lemmas'].values) if pred not in mega_verbs}))\n",
    "# Non-alphanimeric predicates\n",
    "extra_MA_preds_nonan = set(filter( lambda x: any( not c.isalnum() for c in x), {pred for pred in set(new_ECs[new_ECs['predicate'].apply(lambda x: len(x)==1)]['pred_lemmas'].values) if pred not in mega_verbs}))\n",
    "# complex predicates\n",
    "complex_preds = set(new_ECs[new_ECs['predicate'].apply(lambda x: len(x)>1)]['pred_lemmas'].values)"
   ]
  },
  {
   "cell_type": "code",
   "execution_count": 376,
   "id": "5cc3bb6c-fbc7-4813-8cf1-389132ff8bab",
   "metadata": {},
   "outputs": [
    {
     "data": {
      "text/plain": [
       "pred_lemmas\n",
       "do         419\n",
       "have       178\n",
       "wait       113\n",
       "in          88\n",
       "of          72\n",
       "          ... \n",
       "live         9\n",
       "exist        9\n",
       "as           9\n",
       "thought      9\n",
       "arise        9\n",
       "Name: count, Length: 70, dtype: int64"
      ]
     },
     "execution_count": 376,
     "metadata": {},
     "output_type": "execute_result"
    }
   ],
   "source": [
    "extra_MA_pred_counts = new_ECs[new_ECs['pred_lemmas'].apply(lambda x: x in extra_MA_preds)]['pred_lemmas'].value_counts() \n",
    "extra_MA_pred_counts[:70]"
   ]
  },
  {
   "cell_type": "markdown",
   "id": "3ef82c42-7122-4ccf-83b9-d8d6fd559775",
   "metadata": {},
   "source": [
    "### Extraneous predicates from MA"
   ]
  },
  {
   "cell_type": "code",
   "execution_count": 392,
   "id": "812e847a-4153-4e40-98ff-a5de33e95c43",
   "metadata": {},
   "outputs": [],
   "source": [
    "def nlp_parse(sent):\n",
    "    return nltk.Tree.fromstring(list(nlp(sent).sents)[0]._.parse_string).pretty_print()"
   ]
  },
  {
   "cell_type": "code",
   "execution_count": 445,
   "id": "d114c546-ee98-41dd-9541-7ed3c205563a",
   "metadata": {},
   "outputs": [
    {
     "data": {
      "text/plain": [
       "sentence       My question is – how do you figure out who the...\n",
       "predicate           [{'str': 'in', 'lemma': 'in', 'POS': 'ADP'}]\n",
       "type                                                 declarative\n",
       "clause                                    in order to email them\n",
       "pred_lemmas                                                   in\n",
       "Name: 1095, dtype: object"
      ]
     },
     "execution_count": 445,
     "metadata": {},
     "output_type": "execute_result"
    }
   ],
   "source": [
    "new_ECs[new_ECs['pred_lemmas'] == weird_predicate ].iloc[1]"
   ]
  },
  {
   "cell_type": "code",
   "execution_count": 452,
   "id": "6201bccf-6e78-4f75-9a64-913ee3fa315c",
   "metadata": {},
   "outputs": [
    {
     "name": "stdout",
     "output_type": "stream",
     "text": [
      "Weird predicate: in\n",
      "                                 S                                      \n",
      "  _______________________________|____________________________________   \n",
      " |       VP                                                           | \n",
      " |    ___|________                                                    |  \n",
      " |   |   |        VP                                                  | \n",
      " |   |   |    ____|___                                                |  \n",
      " |   |   |   |        S                                               | \n",
      " |   |   |   |        |                                               |  \n",
      " |   |   |   |        VP                                              | \n",
      " |   |   |   |     ___|____                                           |  \n",
      " |   |   |   |    |        VP                                         | \n",
      " |   |   |   |    |    ____|_____                                     |  \n",
      " |   |   |   |    |   |         SBAR                                  | \n",
      " |   |   |   |    |   |     _____|____                                |  \n",
      " |   |   |   |    |   |    |          S                               | \n",
      " |   |   |   |    |   |    |      ____|___                            |  \n",
      " |   |   |   |    |   |    |     |        VP                          | \n",
      " |   |   |   |    |   |    |     |     ___|____                       |  \n",
      " |   |   |   |    |   |    |     |    |        VP                     | \n",
      " |   |   |   |    |   |    |     |    |    ____|___                   |  \n",
      " |   |   |   |    |   |    |     |    |   |        PP                 | \n",
      " |   |   |   |    |   |    |     |    |   |     ___|___               |  \n",
      " NP  |   |   |    |   |  WHADVP  NP   |   |    |       NP             | \n",
      " |   |   |   |    |   |    |     |    |   |    |    ___|_________     |  \n",
      "PRP  MD  RB  VB   TO  VB  WRB   PRP   MD  VB   IN  DT  JJ JJR   NNS   . \n",
      " |   |   |   |    |   |    |     |    |   |    |   |   |   |     |    |  \n",
      " I   ca n’t wait  to see  how    it  ’ll look  in  a  few more years  . \n",
      "\n"
     ]
    }
   ],
   "source": [
    "# Set the predicate we want to look at\n",
    "weird_predicate = extra_MA_pred_counts.index[3]\n",
    "print(f'Weird predicate: {weird_predicate}')\n",
    "# Get a sentence from that weird predicate\n",
    "weird_pred_sent = new_ECs[new_ECs['pred_lemmas'] == weird_predicate ].iloc[0]['sentence']\n",
    "# Print syntactic tree\n",
    "nlp_parse(weird_pred_sent)"
   ]
  },
  {
   "cell_type": "code",
   "execution_count": 469,
   "id": "7b2dfc5a-c915-4d5d-868e-44d20b045ee0",
   "metadata": {},
   "outputs": [
    {
     "name": "stderr",
     "output_type": "stream",
     "text": [
      "/opt/homebrew/Caskroom/miniconda/base/envs/benepar_env/lib/python3.12/site-packages/torch/distributions/distribution.py:53: UserWarning: <class 'torch_struct.distributions.TreeCRF'> does not define `arg_constraints`. Please set `arg_constraints = {}` or initialize the distribution with `validate_args=False` to turn off validation.\n",
      "  warnings.warn(\n"
     ]
    },
    {
     "data": {
      "text/plain": [
       "[{'sentence': 'I can’t wait to see how it’ll look in a few more years.',\n",
       "  'predicate': [{'str': 'see', 'lemma': 'see', 'POS': 'VERB'}],\n",
       "  'type': 'constituent',\n",
       "  'clause': 'how it’ll look in a few more years'}]"
      ]
     },
     "execution_count": 469,
     "metadata": {},
     "output_type": "execute_result"
    }
   ],
   "source": [
    "parser.parse_clauses(list(nlp(weird_pred_sent).sents)[0]) # Full Parse\n",
    "# new_ECs[new_ECs['pred_lemmas'] == weird_predicate ].iloc[0] # Entry"
   ]
  },
  {
   "cell_type": "code",
   "execution_count": 471,
   "id": "b6db3018-caee-478e-870e-8775a6e25fe7",
   "metadata": {},
   "outputs": [
    {
     "name": "stdout",
     "output_type": "stream",
     "text": [
      "                                                                                                                      S                                                                                                                                    \n",
      "          ____________________________________________________________________________________________________________|__________________________________________________________________________________________________________________________________   \n",
      "         |                         |     |                            VP                                                                                                                                                                                 | \n",
      "         |                         |     |       _____________________|__________________________________                                                                                                                                                |  \n",
      "         |                         |     |      |         |                   |                          PP                                                                                                                                              | \n",
      "         |                         |     |      |         |                   |       ___________________|___________________                                                                                                                            |  \n",
      "         |                         |     |      |         |                   |      |                                       PP                                                                                                                          | \n",
      "         |                         |     |      |         |                   |      |       ________________________________|__________________________________                                                                                         |  \n",
      "         |                         |     |      |         |                   |      |      |                                                                  SBAR                                                                                      | \n",
      "         |                         |     |      |         |                   |      |      |                          _________________________________________|________________________________                                                        |  \n",
      "         |                         |     |      |         |                   |      |      |                         |                               |   |                                     SBAR                                                     | \n",
      "         |                         |     |      |         |                   |      |      |                         |                               |   |      ________________________________|______                                                 |  \n",
      "         |                         |     |      |         |                   |      |      |                         |                               |   |     |                                       S                                                | \n",
      "         |                         |     |      |         |                   |      |      |                         |                               |   |     |            ___________________________|___                                             |  \n",
      "         |                         |     |      |         |                   |      |      |                         |                               |   |     |           |                               VP                                           | \n",
      "         |                         |     |      |         |                   |      |      |                         |                               |   |     |           |               ________________|______                                      |  \n",
      "         |                         |     |      |         |                   |      |      |                        SBAR                             |   |     |           |              |                      ADJP                                   | \n",
      "         |                         |     |      |         |                   |      |      |      ___________________|______                         |   |     |           |              |      _________________|__________                           |  \n",
      "         PP                        |     |      |         |                   |      |      |     |                          S                        |   |     |           |              |     |      |                     NP                         | \n",
      "  _______|____                     |     |      |         |                   |      |      |     |            ______________|________                |   |     |           |              |     |      |           __________|___________               |  \n",
      " |            NP                   |     |      |         PP                  |      |      |     |           |                       VP              |   |     |           |              |     |      |          |                      PP             | \n",
      " |    ________|_______________     |     |      |     ____|____               |      |      |     |           |               ________|___            |   |     |           |              |     |      |          |                   ___|______        |  \n",
      " |   |       ADJP             |    |     NP     |    |         NP             |      |      |     |           NP             |           ADJP         |   |     |           NP             |    ADJP    |          NP                 |          NP      | \n",
      " |   |    ____|_______        |    |     |      |    |     ____|______        |      |      |     |       ____|_______       |    ________|_____      |   |     |       ____|_______       |     |      |    ______|__________        |          |       |  \n",
      " IN  DT  JJ  HYPH     JJ      NN   ,    NNS    VBP   IN   CD         NNS      ,     VBG     IN    IN    PRP$  NN      NN    VBZ VBN       CC    JJ    ,   CC    IN    PRP$  NN      NN    VBZ    JJ     CC  DT     JJ         NN      IN         NN      . \n",
      " |   |   |    |       |       |    |     |      |    |    |           |       |      |      |     |      |    |       |      |   |        |     |     |   |     |      |    |       |      |     |      |   |      |          |       |          |       |  \n",
      " At the post  -   secondary level  ,  students fall into four     categories  ,  depending  on whether their work placement  is paid      or  unpaid  ,  and whether their work placement  is optional  or  a  mandatory requirement for     graduation  . \n",
      "\n"
     ]
    },
    {
     "name": "stderr",
     "output_type": "stream",
     "text": [
      "/opt/homebrew/Caskroom/miniconda/base/envs/benepar_env/lib/python3.12/site-packages/torch/distributions/distribution.py:53: UserWarning: <class 'torch_struct.distributions.TreeCRF'> does not define `arg_constraints`. Please set `arg_constraints = {}` or initialize the distribution with `validate_args=False` to turn off validation.\n",
      "  warnings.warn(\n"
     ]
    }
   ],
   "source": [
    "nlp_parse('At the post-secondary level, students fall into four categories, depending on whether their work placement is paid or unpaid, and whether their work placement is optional or a mandatory requirement for graduation.')"
   ]
  },
  {
   "cell_type": "code",
   "execution_count": 458,
   "id": "8d06ed0f-25b7-4dfa-a5ad-324e7751bda1",
   "metadata": {},
   "outputs": [
    {
     "name": "stderr",
     "output_type": "stream",
     "text": [
      "huggingface/tokenizers: The current process just got forked, after parallelism has already been used. Disabling parallelism to avoid deadlocks...\n",
      "To disable this warning, you can either:\n",
      "\t- Avoid using `tokenizers` before the fork if possible\n",
      "\t- Explicitly set the environment variable TOKENIZERS_PARALLELISM=(true | false)\n"
     ]
    }
   ],
   "source": [
    "clip.copy(weird_pred_sent)"
   ]
  },
  {
   "cell_type": "markdown",
   "id": "49f29b60-a03b-40f5-a196-47be1b3983a7",
   "metadata": {},
   "source": [
    "## Empty Predicate Parses\n",
    "Lets look at the empty predicates in each category"
   ]
  },
  {
   "cell_type": "code",
   "execution_count": 289,
   "id": "738cea97-356c-4534-8a95-804022dc6b1b",
   "metadata": {},
   "outputs": [
    {
     "name": "stdout",
     "output_type": "stream",
     "text": [
      "                             S                                      \n",
      "            _________________|____________________________________   \n",
      "           VP                                                     | \n",
      "    _______|_________________                                     |  \n",
      "   |                        SBAR                                  | \n",
      "   |        _________________|________                            |  \n",
      "   |       |                          S                           | \n",
      "   |       |           _______________|______                     |  \n",
      "   |       |          |                      VP                   | \n",
      "   |       |          |                ______|_____               |  \n",
      "   |       |          |               |            VP             | \n",
      "   |       |          |               |       _____|______        |  \n",
      "   |       |          NP              |      |            NP      | \n",
      "   |       |      ____|______         |      |            |       |  \n",
      "  VBZ      IN    DT          NN       MD     VB          NNS      . \n",
      "   |       |     |           |        |      |            |       |  \n",
      "Returns whether this     marshaller should output     namespaces  . \n",
      "\n"
     ]
    },
    {
     "name": "stderr",
     "output_type": "stream",
     "text": [
      "/opt/homebrew/Caskroom/miniconda/base/envs/benepar_env/lib/python3.12/site-packages/torch/distributions/distribution.py:53: UserWarning: <class 'torch_struct.distributions.TreeCRF'> does not define `arg_constraints`. Please set `arg_constraints = {}` or initialize the distribution with `validate_args=False` to turn off validation.\n",
      "  warnings.warn(\n"
     ]
    }
   ],
   "source": [
    "## Declarative empty predicates\n",
    "test = new_ECs[(new_ECs['pred_lemmas'] == '') & (new_ECs['type']== 'polar')][['sentence','clause']].iloc[0]['sentence']\n",
    "tree = nltk.Tree.fromstring(list(nlp(test).sents)[0]._.parse_string)\n",
    "# Print the tree in ASCII\n",
    "tree.pretty_print()"
   ]
  },
  {
   "cell_type": "code",
   "execution_count": null,
   "id": "5a32c7ef-8f33-4c03-874c-c85ea57cda67",
   "metadata": {},
   "outputs": [],
   "source": [
    "## Declarative empty predicates\n",
    "test = new_ECs[(new_ECs['pred_lemmas'] == '') & (new_ECs['type']== 'declarative')][['sentence','clause']].iloc[1]['sentence']\n",
    "tree = nltk.Tree.fromstring(list(nlp(test).sents)[0]._.parse_string)\n",
    "# Print the tree in ASCII\n",
    "tree.pretty_print()"
   ]
  },
  {
   "cell_type": "code",
   "execution_count": null,
   "id": "449e364c-74d5-44fe-b12b-c71c431f990d",
   "metadata": {},
   "outputs": [],
   "source": [
    "## Declarative empty predicates\n",
    "test = new_ECs[(new_ECs['pred_lemmas'] == '') & (new_ECs['type']== 'declarative')][['sentence','clause']].iloc[1]['sentence']\n",
    "tree = nltk.Tree.fromstring(list(nlp(test).sents)[0]._.parse_string)\n",
    "# Print the tree in ASCII\n",
    "tree.pretty_print()"
   ]
  },
  {
   "cell_type": "code",
   "execution_count": 288,
   "id": "a0560333-2875-4ad9-bb91-728a8bebf91a",
   "metadata": {},
   "outputs": [
    {
     "name": "stdout",
     "output_type": "stream",
     "text": [
      "                   S                                \n",
      "  _________________|______________________________   \n",
      " |        VP                                      | \n",
      " |    ____|___                                    |  \n",
      " |   |       SBAR                                 | \n",
      " |   |        |                                   |  \n",
      " |   |        S                                   | \n",
      " |   |     ___|_________                          |  \n",
      " |   |    |             VP                        | \n",
      " |   |    |    _________|______________           |  \n",
      " NP  |    NP  |    |    |    |         NP         | \n",
      " |   |    |   |    |    |    |     ____|____      |  \n",
      "PRP VBP  PRP VBZ   RB   JJ   IN   DT       NNS    . \n",
      " |   |    |   |    |    |    |    |         |     |  \n",
      " I  know she  ’s   so right  on these     points  . \n",
      "\n"
     ]
    },
    {
     "name": "stderr",
     "output_type": "stream",
     "text": [
      "/opt/homebrew/Caskroom/miniconda/base/envs/benepar_env/lib/python3.12/site-packages/torch/distributions/distribution.py:53: UserWarning: <class 'torch_struct.distributions.TreeCRF'> does not define `arg_constraints`. Please set `arg_constraints = {}` or initialize the distribution with `validate_args=False` to turn off validation.\n",
      "  warnings.warn(\n"
     ]
    }
   ],
   "source": [
    "## Declarative empty predicates\n",
    "test = new_ECs[(new_ECs['pred_lemmas'] == '') & (new_ECs['type']== 'declarative')][['sentence','clause']].iloc[1]['sentence']\n",
    "tree = nltk.Tree.fromstring(list(nlp(test).sents)[0]._.parse_string)\n",
    "# Print the tree in ASCII\n",
    "tree.pretty_print()"
   ]
  },
  {
   "cell_type": "code",
   "execution_count": 283,
   "id": "5cb949b4-b48f-48ad-8b18-b815c001515f",
   "metadata": {},
   "outputs": [
    {
     "name": "stdout",
     "output_type": "stream",
     "text": [
      "                                                S                                                  \n",
      "        ________________________________________|________________________________________________   \n",
      "       |                    VP                                                                   | \n",
      "       |               _____|_____                                                               |  \n",
      "       |              |          SBAR                                                            | \n",
      "       |              |      _____|____                                                          |  \n",
      "       |              |     |          S                                                         | \n",
      "       |              |     |      ____|________                                                 |  \n",
      "       |              |     |     |             VP                                               | \n",
      "       |              |     |     |     ________|________________                                |  \n",
      "       |              |     |     |    |                         VP                              | \n",
      "       |              |     |     |    |         ________________|________                       |  \n",
      "       |              |     |     |    |        VP           |            VP                     | \n",
      "       |              |     |     |    |    ____|_____       |    ________|____                  |  \n",
      "       NP             |     |     NP   |   |    NP   ADVP    |   |   PRT       NP                | \n",
      "  _____|_______       |     |     |    |   |    |     |      |   |    |    ____|___________      |  \n",
      " DT    JJ      NN    VBZ    IN   PRP   MD  VB  PRP    RB     CC  VB   RP  DT   NN   NN     NN    . \n",
      " |     |       |      |     |     |    |   |    |     |      |   |    |   |    |    |      |     |  \n",
      "The obvious question  is whether  he  'll play  it straight  or keep  up the cable news schtick  . \n",
      "\n"
     ]
    }
   ],
   "source": []
  },
  {
   "cell_type": "code",
   "execution_count": null,
   "id": "7effe737-2433-45d5-b864-3deb27ece7e8",
   "metadata": {},
   "outputs": [],
   "source": [
    "t = time.time()\n",
    "times = []\n",
    "line_count = 1\n",
    "ECs = []\n",
    "for line in read_file(dolma_path+current_file):\n",
    "    sline = line.strip('\\n')\n",
    "    if len(line) <100 :\n",
    "        try:\n",
    "            doc = nlp(sline)\n",
    "            for sent in doc.sents:\n",
    "                parse = parser.parse_clauses(sent)\n",
    "                if parse != []:\n",
    "                    # print(f'Line {line_count} has an embedded clause!')\n",
    "                    ECs.append(parse)\n",
    "        except Exception as e:\n",
    "            #print(f\"Error encountered while processing line {line_count}: {sline}\")\n",
    "            print(e)\n",
    "            pass  # Do nothing, continue to next line\n",
    "    line_count+=1\n",
    "    if line_count % 1000 == 0:\n",
    "        print(f'Time to parse 1000 entries: {time.time()-t}')\n",
    "        times.append(time.time()-t)\n",
    "        t = time.time()"
   ]
  },
  {
   "cell_type": "code",
   "execution_count": 34,
   "id": "70423312-01f3-4bb6-ada0-590e2d6e5678",
   "metadata": {},
   "outputs": [
    {
     "data": {
      "text/plain": [
       "18006"
      ]
     },
     "execution_count": 34,
     "metadata": {},
     "output_type": "execute_result"
    }
   ],
   "source": [
    "flat_ECs = []\n",
    "for parse in ECs:\n",
    "    flat_ECs += parse"
   ]
  },
  {
   "cell_type": "code",
   "execution_count": null,
   "id": "67201be5-14c9-40e5-8591-bb64c2f7cb99",
   "metadata": {},
   "outputs": [],
   "source": [
    "flat_ECs"
   ]
  },
  {
   "cell_type": "code",
   "execution_count": 48,
   "id": "6c38cca4-b00d-4171-b778-185bb811931d",
   "metadata": {},
   "outputs": [],
   "source": [
    "# Function to get the top N elements of a list\n",
    "def top_n(a,n):\n",
    "    return np.flip(np.argsort(a)[-n:])"
   ]
  },
  {
   "cell_type": "code",
   "execution_count": null,
   "id": "b970ed1c-9688-4ac3-ae66-7791bbb84dbe",
   "metadata": {},
   "outputs": [],
   "source": [
    "ex = []\n",
    "count = 0\n",
    "for ec in flat_ECs:\n",
    "    if list(nlp(ec['clause']).sents)[0][0]=='until':\n",
    "        ex.append(ec)\n",
    "        count += 1\n",
    "    if count > 10:\n",
    "        break\n",
    "    \n",
    "ex"
   ]
  },
  {
   "cell_type": "code",
   "execution_count": 149,
   "id": "88a04f00-64f5-4f9f-be98-509963479dbb",
   "metadata": {},
   "outputs": [
    {
     "data": {
      "text/plain": [
       "matter       2\n",
       "say          2\n",
       "care         1\n",
       "decide       1\n",
       "of           1\n",
       "determine    1\n",
       "happen       1\n",
       "assess       1\n",
       "count        1\n",
       "know         1\n",
       "die          1\n",
       "Name: count, dtype: int64"
      ]
     },
     "execution_count": 149,
     "metadata": {},
     "output_type": "execute_result"
    }
   ],
   "source": [
    "pd.Series([ec['predicate'][0]['lemma'] for ec in flat_ECs if (len(ec['predicate'])==1 and ec['type'] == 'alternative')]).value_counts()"
   ]
  },
  {
   "cell_type": "code",
   "execution_count": 148,
   "id": "53f208dc-29c8-46d4-ba5c-55f4aba246d3",
   "metadata": {},
   "outputs": [
    {
     "data": {
      "text/plain": [
       "check          9\n",
       "set            6\n",
       "indicate       5\n",
       "wonder         4\n",
       "ask            3\n",
       "specify        2\n",
       "verify         2\n",
       "see            2\n",
       "determine      2\n",
       "investigate    2\n",
       "decide         2\n",
       "make           2\n",
       "know           2\n",
       "enable         1\n",
       "for            1\n",
       "bring          1\n",
       "inform         1\n",
       "matter         1\n",
       "assess         1\n",
       "impact         1\n",
       "consider       1\n",
       "change         1\n",
       "backwash       1\n",
       "establish      1\n",
       "track          1\n",
       "explore        1\n",
       "Name: count, dtype: int64"
      ]
     },
     "execution_count": 148,
     "metadata": {},
     "output_type": "execute_result"
    }
   ],
   "source": [
    "pd.Series([ec['predicate'][0]['lemma'] for ec in flat_ECs if (len(ec['predicate'])==1 and ec['type'] == 'polar')]).value_counts()"
   ]
  },
  {
   "cell_type": "code",
   "execution_count": 142,
   "id": "2e8ea3aa-9a5f-4067-8e81-d39a148b9ac0",
   "metadata": {},
   "outputs": [
    {
     "data": {
      "text/plain": [
       "declarative    11775\n",
       "constituent     6120\n",
       "polar             89\n",
       "alternative       22\n",
       "Name: count, dtype: int64"
      ]
     },
     "execution_count": 142,
     "metadata": {},
     "output_type": "execute_result"
    }
   ],
   "source": [
    "types = [parse['type'] for parse in flat_ECs]\n",
    "len(types)\n",
    "pd.Series(types).value_counts()"
   ]
  },
  {
   "cell_type": "code",
   "execution_count": null,
   "id": "4cdd6b5a-2062-4161-8317-66e0a53a3f70",
   "metadata": {},
   "outputs": [],
   "source": [
    "preds = [parse['predicate'] for parse in flat_ECs]\n",
    "len(preds)\n",
    "preds"
   ]
  },
  {
   "cell_type": "code",
   "execution_count": 77,
   "id": "540ecab7-fcb2-4fab-b1f0-48dfca2069c6",
   "metadata": {},
   "outputs": [],
   "source": [
    "pred_lemmas = pd.Series([pred[0]['lemma'] for pred in  filter(lambda x: len(x)==1,preds)])\n",
    "pred_string = pd.Series([pred[0]['str'] for pred in  filter(lambda x: len(x)==1,preds)])"
   ]
  },
  {
   "cell_type": "code",
   "execution_count": 139,
   "id": "a4887876-0cd3-457c-852a-2e816baea234",
   "metadata": {},
   "outputs": [
    {
     "data": {
      "text/plain": [
       "thank         8\n",
       "include       8\n",
       "good          8\n",
       "define        8\n",
       "drop          8\n",
       "occur         8\n",
       "predict       8\n",
       "bring         8\n",
       "hate          8\n",
       "play          8\n",
       "appreciate    8\n",
       "same          7\n",
       "rotate        7\n",
       "declare       7\n",
       "recognise     7\n",
       "print         7\n",
       "worry         7\n",
       "allow         7\n",
       "hide          7\n",
       "cause         7\n",
       "fear          7\n",
       "pay           7\n",
       "sure          7\n",
       "easy          7\n",
       "mind          7\n",
       "select        7\n",
       "email         7\n",
       "solve         6\n",
       "avoid         6\n",
       "manage        6\n",
       "miss          6\n",
       "end           6\n",
       "close         6\n",
       "complete      6\n",
       "join          6\n",
       "listen        6\n",
       "grab          6\n",
       "achieve       6\n",
       "deliver       6\n",
       "deny          6\n",
       "be            6\n",
       "sit           6\n",
       "conclude      6\n",
       "let           6\n",
       "cover         6\n",
       "kill          5\n",
       "support       5\n",
       "glad          5\n",
       "smile         5\n",
       "fry           5\n",
       "Name: count, dtype: int64"
      ]
     },
     "execution_count": 139,
     "metadata": {},
     "output_type": "execute_result"
    }
   ],
   "source": [
    "# ((100*pred_lemmas.value_counts()/len(preds))[0:20]\n",
    "pred_lemmas.value_counts()[150:200]"
   ]
  },
  {
   "cell_type": "code",
   "execution_count": 81,
   "id": "49851f28-2c88-4375-b239-e7e4a274e2be",
   "metadata": {},
   "outputs": [
    {
     "data": {
      "text/plain": [
       "know          4.753971\n",
       "think         4.043097\n",
       "said          2.365878\n",
       "see           1.938243\n",
       "hope          1.760524\n",
       "say           1.155170\n",
       "says          0.827502\n",
       "believe       0.794180\n",
       "tell          0.777519\n",
       "do            0.705320\n",
       "thought       0.705320\n",
       "’s            0.644230\n",
       "means         0.555370\n",
       "wish          0.510941\n",
       "mean          0.488726\n",
       "understand    0.460957\n",
       "show          0.455404\n",
       "ensure        0.438743\n",
       "guess         0.438743\n",
       "feel          0.416528\n",
       "Name: count, dtype: float64"
      ]
     },
     "execution_count": 81,
     "metadata": {},
     "output_type": "execute_result"
    }
   ],
   "source": [
    "(100*pred_string.value_counts()/len(preds))[0:20]"
   ]
  },
  {
   "cell_type": "code",
   "execution_count": 106,
   "id": "6be33f1e-c302-4fae-a7c2-46c103ca13be",
   "metadata": {},
   "outputs": [],
   "source": [
    "pred_verbs = [[p['lemma'] for p in pred if p['POS']=='VERB'] for pred in filter(lambda x: len(x)<5 ,preds)]\n",
    "pred_verbs_joined = pd.Series(list(map(lambda x: ' '.join(x),pred_verbs)))"
   ]
  },
  {
   "cell_type": "code",
   "execution_count": 113,
   "id": "2f76a63b-4edc-4ece-8bc5-cd32b9ec3a6d",
   "metadata": {},
   "outputs": [
    {
     "data": {
      "text/plain": [
       "                   4257\n",
       "know               1108\n",
       "think               961\n",
       "say                 878\n",
       "hope                440\n",
       "                   ... \n",
       "configure check       1\n",
       "shave                 1\n",
       "help promote          1\n",
       "look see              1\n",
       "decline comment       1\n",
       "Name: count, Length: 1507, dtype: int64"
      ]
     },
     "execution_count": 113,
     "metadata": {},
     "output_type": "execute_result"
    }
   ],
   "source": [
    "pred_verbs_joined.value_counts()"
   ]
  },
  {
   "cell_type": "code",
   "execution_count": null,
   "id": "daad0a6c-3eaa-4b87-9ee0-e6bb7207ff63",
   "metadata": {},
   "outputs": [],
   "source": []
  }
 ],
 "metadata": {
  "kernelspec": {
   "display_name": "benepar_env",
   "language": "python",
   "name": "benepar_env"
  },
  "language_info": {
   "codemirror_mode": {
    "name": "ipython",
    "version": 3
   },
   "file_extension": ".py",
   "mimetype": "text/x-python",
   "name": "python",
   "nbconvert_exporter": "python",
   "pygments_lexer": "ipython3",
   "version": "3.12.4"
  }
 },
 "nbformat": 4,
 "nbformat_minor": 5
}
