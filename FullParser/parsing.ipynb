{
 "cells": [
  {
   "cell_type": "code",
   "execution_count": null,
   "id": "d23b74f2-09e6-464b-b798-40f4f8da55e8",
   "metadata": {},
   "outputs": [],
   "source": [
    "import json\n",
    "from ClauseParser import ClauseParser"
   ]
  },
  {
   "cell_type": "markdown",
   "id": "075e5a56-fed7-4638-9c8e-d947ccd02898",
   "metadata": {},
   "source": [
    "\n",
    "## Import the examples\n"
   ]
  },
  {
   "cell_type": "code",
   "execution_count": null,
   "id": "b7ef5d88-a058-45a2-84d0-72deb3a7364f",
   "metadata": {},
   "outputs": [],
   "source": [
    "decl_samples = open('../Datasets/ClauseEmbeddingExamples/finite-declarative-clauses.txt').read().replace('\\n', ' ')\n",
    "pol_samples = open('../Datasets/ClauseEmbeddingExamples/finite-polar-interrogative-clauses.txt').read().replace('\\n', ' ')\n",
    "const_samples = open('../Datasets/ClauseEmbeddingExamples/finite-consituent-interrogative-clauses.txt').read().replace('\\n', ' ')\n",
    "alt_samples = open('../Datasets/ClauseEmbeddingExamples/finite-alternative-interrogative-clauses.txt').read().replace('\\n', ' ')\n",
    "adv_samples = open('../Datasets/ClauseEmbeddingExamples/adversarial.txt').read().replace('\\n', ' ')\n",
    "all_examples = decl_samples + pol_samples + const_samples + alt_samples"
   ]
  },
  {
   "cell_type": "markdown",
   "id": "d142474b-06f9-41b5-ae7c-71637759cc0a",
   "metadata": {},
   "source": [
    "## Parser"
   ]
  },
  {
   "cell_type": "code",
   "execution_count": null,
   "id": "1e9e5658-b90f-4a39-a96f-dec62a6f5869",
   "metadata": {},
   "outputs": [],
   "source": [
    "parser = ClauseParser()\n",
    "\n",
    "parsed_examples = parser.get_embedded_clauses(all_examples)"
   ]
  },
  {
   "cell_type": "markdown",
   "id": "6b1fb1dc-dbd9-4ef8-a46d-9532743e3386",
   "metadata": {},
   "source": [
    "Save the parsed examples to run stats later"
   ]
  },
  {
   "cell_type": "code",
   "execution_count": null,
   "id": "58a19381-f37e-4a77-800a-8b80d0936b27",
   "metadata": {},
   "outputs": [],
   "source": [
    "filename = \"../Parsed_Data/parsed_examples.json\"\n",
    "# Open the file in write mode\n",
    "with open(filename, \"w\") as file:\n",
    "    # Pass the file object to json.dump()\n",
    "    json.dump(parsed_examples, file)\n"
   ]
  },
  {
   "cell_type": "code",
   "execution_count": null,
   "id": "c39306dd-484f-4f49-bbef-69a93516939b",
   "metadata": {},
   "outputs": [],
   "source": [
    "##\n",
    "# Import dataset\n",
    "##\n",
    "#common_crawl_sample = open('../Datasets/cc_en_head-0000_sample.txt').read().replace('\\n', ' ')\n"
   ]
  }
 ],
 "metadata": {
  "kernelspec": {
   "display_name": "Python 3 (ipykernel)",
   "language": "python",
   "name": "python3"
  },
  "language_info": {
   "codemirror_mode": {
    "name": "ipython",
    "version": 3
   },
   "file_extension": ".py",
   "mimetype": "text/x-python",
   "name": "python",
   "nbconvert_exporter": "python",
   "pygments_lexer": "ipython3",
   "version": "3.11.6"
  }
 },
 "nbformat": 4,
 "nbformat_minor": 5
}
